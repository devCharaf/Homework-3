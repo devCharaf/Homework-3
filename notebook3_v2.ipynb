{
 "cells": [
  {
   "cell_type": "markdown",
   "metadata": {},
   "source": [
    "<center> <h1>Homework 3</h1> </center>"
   ]
  },
  {
   "cell_type": "markdown",
   "metadata": {},
   "source": [
    "This homework solution has been inspired from [IFT 6390](https://admission.umontreal.ca/cours-et-horaires/cours/ift-6390/) homeworks as well as the work of [Francois David](https://www.zspapapa.com/francoisdavid).\n",
    "\n",
    "**IMPORTANT**\n",
    "\n",
    "* To run this code, make sure you adjust the path to the .csv file in the 15th line of the second cell according to you!"
   ]
  },
  {
   "cell_type": "markdown",
   "metadata": {},
   "source": [
    "# Imports"
   ]
  },
  {
   "cell_type": "code",
   "execution_count": 8,
   "metadata": {},
   "outputs": [],
   "source": [
    "import numpy as np \n",
    "import pandas as pd\n",
    "import time\n",
    "import timeit\n",
    "import os\n",
    "import scipy\n",
    "import pip\n",
    "\n",
    "try:\n",
    "    import plotly\n",
    "except ImportError:\n",
    "    print(\"Installing plotly as it is not available\")\n",
    "    pip.main(['install', plotly])\n",
    "\n",
    "\n",
    "# sklearn\n",
    "from sklearn.model_selection import train_test_split\n",
    "from sklearn.preprocessing import OrdinalEncoder\n",
    "\n",
    "# plotly\n",
    "from plotly.subplots import make_subplots\n",
    "import plotly.graph_objects as go\n",
    "# import plotly.express as px"
   ]
  },
  {
   "cell_type": "markdown",
   "metadata": {},
   "source": [
    "# Logistic Regression and Retrospective Approximation"
   ]
  },
  {
   "cell_type": "code",
   "execution_count": 9,
   "metadata": {},
   "outputs": [],
   "source": [
    "class LogisticRegression(object):\n",
    "    def __init__(self,\n",
    "                 optimizer='gd',\n",
    "                 gd_lr=0.001,\n",
    "                 eps=1e-8):\n",
    "        # Save the optimizer\n",
    "        self.optimizer = optimizer\n",
    "\n",
    "        # Save hyperparameter settings\n",
    "        self.gd_lr = gd_lr  # gd learning rate\n",
    "        self.eps = eps  # epsilon, for numerical stability\n",
    "\n",
    "        # Load the data\n",
    "        # self.df = pd.read_csv(os.path.join(data_path, 'bank/bank-full.csv'), sep=\";\")\n",
    "        self.df = pd.read_csv('C:/Users/Kumar Rupesh/data/bank/bank-full.csv', sep=\";\")\n",
    "\n",
    "        # Encoding data\n",
    "        cols = self.df.columns\n",
    "        num_cols = self.df._get_numeric_data().columns\n",
    "        cat_cols = list(set(cols) - set(num_cols))\n",
    "\n",
    "        ordinal_encoder = OrdinalEncoder()\n",
    "        self.df[cat_cols] = ordinal_encoder.fit_transform(self.df[cat_cols])\n",
    "\n",
    "        # split data into train, test and valid\n",
    "        self.train_data, self.test_data = train_test_split(self.df, test_size=0.2, random_state=1)\n",
    "        self.train_data, self.val_data = train_test_split(self.train_data, test_size=0.25, random_state=1)\n",
    "\n",
    "        # labels\n",
    "        self.train_labels = self.train_data.y\n",
    "        self.test_labels = self.test_data.y\n",
    "        self.val_labels = self.val_data.y\n",
    "\n",
    "        # drop the target value\n",
    "        self.train_data = self.train_data.drop(['y'], axis=1)\n",
    "        self.test_data = self.test_data.drop(['y'], axis=1)\n",
    "        self.val_data = self.val_data.drop(['y'], axis=1)\n",
    "\n",
    "        # transform back to numpy array\n",
    "        self.train_data = self.train_data.to_numpy()\n",
    "        self.test_data = self.test_data.to_numpy()\n",
    "        self.val_data = self.val_data.to_numpy()\n",
    "        self.train_labels = self.train_labels.to_numpy()\n",
    "        self.test_labels = self.test_labels.to_numpy()\n",
    "        self.val_labels = self.val_labels.to_numpy()\n",
    "\n",
    "        # Prepend a vector of all ones to each of the dataset\n",
    "        self.train_data = np.hstack([np.ones_like(self.train_data[:, 0])[:, np.newaxis], self.train_data])\n",
    "        self.val_data = np.hstack([np.ones_like(self.val_data[:, 0])[:, np.newaxis], self.val_data])\n",
    "        self.test_data = np.hstack([np.ones_like(self.test_data[:, 0])[:, np.newaxis], self.test_data])\n",
    "\n",
    "        # Initialize the weight matrix\n",
    "        np.random.seed(seed=42)\n",
    "        self.start_w = np.random.rand(self.train_data.shape[1])\n",
    "\n",
    "        # Initialize the train logs\n",
    "        self.train_logs = {'train_accuracy': [], 'validation_accuracy': [], 'train_loss': [], 'validation_loss': []}\n",
    "\n",
    "    def sigmoid(self, a):\n",
    "        \"\"\"\n",
    "        inputs:\n",
    "            v: float\n",
    "\n",
    "        returns:\n",
    "            the logistic sigmoid evaluated at a\n",
    "        \"\"\"\n",
    "        # we use the scipy sigmoid instead of np.exp() to avoid RuntimeWarning: overflow\n",
    "        return scipy.special.expit(a)\n",
    "        # return 1 / (1 + np.exp(-a))\n",
    "\n",
    "    def forward(self, w, X):\n",
    "        \"\"\"\n",
    "        inputs: w: an array of the current weights, of shape (d,)\n",
    "                X: an array of n datapoints, of shape (n, d)\n",
    "\n",
    "        outputs: an array of the output of the logistic regression (not 0s and 1s yet)\n",
    "        \"\"\"\n",
    "        return self.sigmoid(np.dot(X, w))\n",
    "\n",
    "    def loss(self, w, X, y):\n",
    "        \"\"\"\n",
    "        inputs: w: an array of the current weights, of shape (d,)\n",
    "                X: an array of n datapoints, of shape (n, d)\n",
    "\n",
    "        outputs: the loss. This is exactly the negative log likelihood\n",
    "        \"\"\"\n",
    "        E = 10 ** (-8)\n",
    "        y_pred = self.sigmoid(np.dot(X, w))\n",
    "        cost = -np.sum(y * np.log(y_pred + E) + (1 - y) * np.log(1 - y_pred + E))\n",
    "        return cost\n",
    "\n",
    "    def gradient(self, w, X, y):\n",
    "        \"\"\"\n",
    "        inputs:\n",
    "            w: an array of the current weights\n",
    "\n",
    "        returns:\n",
    "            an array representing the gradient of the loss\n",
    "        \"\"\"\n",
    "        grad = np.dot(X.T, (self.sigmoid(np.dot(X, w)) - y))\n",
    "        return grad\n",
    "\n",
    "    def gd_step(self, grad, w, alpha):\n",
    "        \"\"\"\n",
    "        inputs:\n",
    "            w: an array of the current weights\n",
    "\n",
    "        returns:\n",
    "            a vector of weights updated according to a step of gradient descent\n",
    "            on the whole train dataset, using the learning rate self.gd_lr\n",
    "        \"\"\"\n",
    "        wnext = w - alpha * grad\n",
    "        return wnext\n",
    "\n",
    "    def compute_average_loss_and_accuracy(self, w, X, y):\n",
    "        outputs = self.forward(w, X)\n",
    "        predictions = np.array(np.round(outputs), dtype=int)\n",
    "        accuracy = np.mean(y == predictions)\n",
    "        loss = self.loss(w, X, y) / X.shape[0]\n",
    "        return loss, accuracy, predictions\n",
    "\n",
    "    def predict(self, X, w):\n",
    "        y_predict = self.forward(X, w)\n",
    "        return y_predict\n",
    "\n",
    "    def train_loopRetroApprox(self, iterations):\n",
    "        X = self.train_data\n",
    "        y = self.train_labels\n",
    "        \n",
    "        # starting weights\n",
    "        w = np.copy(self.start_w)\n",
    "        batch_size = 1\n",
    "        alpha = 0.9999\n",
    "\n",
    "        # starting sample size \n",
    "        sampleSize = 100 \n",
    "        iteration =  0\n",
    "        ErrorThreshold = 0.8\n",
    "        ErrorPercent = 1.0\n",
    "        wX =  {} \n",
    "        previousLoss = 2147483647\n",
    "\n",
    "        cumulIdx = 0\n",
    "        gradsOld = {}\n",
    "        ep = np.arange(iterations)\n",
    "        for iteration in range(iterations):\n",
    "            start = timeit.default_timer()\n",
    "            # Error reset \n",
    "            ErrorPercent = 1.0\n",
    "\n",
    "            Xt = self.train_data\n",
    "            yt = self.train_labels\n",
    "            X_trainS = Xt[:sampleSize][:]\n",
    "            y_trainS = yt[:sampleSize]\n",
    "\n",
    "            Xv = self.val_data\n",
    "            yv = self.val_labels\n",
    "            X_validS = Xv[:sampleSize][ :]\n",
    "            y_validS = yv[:sampleSize]\n",
    "\n",
    "            # Adjust the learning rate\n",
    "            subAlpha = alpha\n",
    "            p = 0\n",
    "            while(ErrorPercent >  ErrorThreshold):\n",
    "                gradsS = 0\n",
    "                \n",
    "                for i in range(sampleSize):\n",
    "                    batchX = X_trainS[1 * (i + cumulIdx):1 * (i + cumulIdx + 1), :]\n",
    "                    batchY = y_trainS[1 * (i + cumulIdx):1 * (i + cumulIdx + 1)]\n",
    "                    cumulIdx += 1 \n",
    "                    \n",
    "                    # To avoid index error\n",
    "                    if cumulIdx == X_trainS.shape[0]-1:\n",
    "                        cumulIdx = 0 \n",
    "\n",
    "                    loss = self.loss(w, batchX, batchY)\n",
    "\n",
    "                    # computing the average of the loss\n",
    "                    if i != 0:\n",
    "                        lossS += loss\n",
    "                    else:\n",
    "                        lossS = loss\n",
    "            \n",
    "                # Divide by the sampleSize\n",
    "                if iteration == 0 : \n",
    "                    lossOld = lossS * 1 / sampleSize\n",
    "                else : \n",
    "                    lossOld = (lossS + lossOld) / sampleSize * 2\n",
    "\n",
    "                # Update the weights\n",
    "                w = self.gd_step(lossOld, w, subAlpha)\n",
    "                \n",
    "                # Calculate the loss according to the sample\n",
    "                train_loss, train_accuracy, _ = self.compute_average_loss_and_accuracy(w, X_trainS, y_trainS)\n",
    "                valid_loss, valid_accuracy, _ = self.compute_average_loss_and_accuracy(w, X_validS, y_validS)\n",
    "                \n",
    "                # Check if the train_accuracy updates\n",
    "                if p == train_accuracy:\n",
    "                    print(f\"###################### {ErrorThreshold}\")\n",
    "                    break\n",
    "                \n",
    "                p = train_accuracy\n",
    "                \n",
    "                # Update error\n",
    "                ErrorPercent = 1.0 - train_accuracy\n",
    "                \n",
    "                # Update learning rate\n",
    "                if(ErrorPercent  >  ErrorThreshold):\n",
    "                    subAlpha *= .988888\n",
    "\n",
    "            # Stop timer\n",
    "            stop = timeit.default_timer()\n",
    "\n",
    "            # Compute the loss over the complete dataset\n",
    "            X_trainAll = self.train_data\n",
    "            y_trainAll = self.train_labels\n",
    "            train_lossAll, train_accuracyAll, _ = self.compute_average_loss_and_accuracy(w, X_trainAll, y_trainAll)\n",
    "            X_validAll = self.val_data\n",
    "            y_validAll = self.val_labels\n",
    "            valid_lossAll, valid_accuracyAll, _ = self.compute_average_loss_and_accuracy(w, X_validAll, y_validAll)\n",
    "\n",
    "            if train_loss > previousLoss:\n",
    "                alpha = alpha * .923\n",
    "            previousLoss = train_lossAll\n",
    "\n",
    "            # update sampleSize\n",
    "            sampleSize += 270\n",
    "\n",
    "            # ifnot, the while loop goes on forever\n",
    "            if ErrorThreshold > 0.18:\n",
    "                ErrorThreshold  *= .96\n",
    "            \n",
    "            # print loss and acuracy for each iteration\n",
    "            print(f\"Iteration {iteration} : Train Accuracy : {train_accuracyAll}, \\tValid  Accuracy : {valid_accuracyAll},\\t Train Loss : {train_lossAll}, \\tValid Loss :  {valid_lossAll} , Time : {stop - start}\")\n",
    "\n",
    "            self.train_logs['train_accuracy'].append(train_accuracyAll)\n",
    "            self.train_logs['validation_accuracy'].append(valid_accuracyAll)\n",
    "            self.train_logs['train_loss'].append(train_lossAll)\n",
    "            self.train_logs['validation_loss'].append(valid_lossAll)\n",
    "        \n",
    "        # ploting \n",
    "        fig = make_subplots(rows=2, cols=2)\n",
    "\n",
    "        fig.add_trace(\n",
    "            go.Scatter(name=\"train_loss\", x=ep, y=self.train_logs['train_loss']),\n",
    "            row=1, col=1\n",
    "        )\n",
    "\n",
    "        fig.add_trace(\n",
    "            go.Scatter(name=\"train_accuracy\", x=ep, y=self.train_logs['train_accuracy']),\n",
    "            row=1, col=2\n",
    "        )\n",
    "        \n",
    "        fig.add_trace(\n",
    "            go.Scatter(name=\"validation_loss\", x=ep, y=self.train_logs['validation_loss']),\n",
    "            row=2, col=1\n",
    "        )\n",
    "\n",
    "        fig.add_trace(\n",
    "            go.Scatter(name=\"validation_accuracy\", x=ep, y=self.train_logs['validation_accuracy']),\n",
    "            row=2, col=2\n",
    "        )\n",
    "        \n",
    "#         fig.update_layout(height=600, width=800, title_text=\"Convergence of the loss and accuracy\")\n",
    "        fig.layout.update(height=600, width=800, title_text=\"Convergence of the loss and accuracy\")\n",
    "        fig.show()\n",
    "\n",
    "        return self.train_logs"
   ]
  },
  {
   "cell_type": "markdown",
   "metadata": {},
   "source": [
    "# Main"
   ]
  },
  {
   "cell_type": "code",
   "execution_count": 10,
   "metadata": {},
   "outputs": [
    {
     "name": "stdout",
     "output_type": "stream",
     "text": [
      "Iteration 0 : Train Accuracy : 0.8495170684951707, \tValid  Accuracy : 0.847268303472683,\t Train Loss : 2.7700484388015902, \tValid Loss :  2.813418616466814 , Time : 0.06651289999717847\n",
      "Iteration 1 : Train Accuracy : 0.8500700435007005, \tValid  Accuracy : 0.8477106834771069,\t Train Loss : 2.7605220951814444, \tValid Loss :  2.805179426044218 , Time : 0.03945839998777956\n",
      "Iteration 2 : Train Accuracy : 0.8502175035021751, \tValid  Accuracy : 0.8479318734793188,\t Train Loss : 2.7582965192491287, \tValid Loss :  2.8012003975375235 , Time : 0.019913800002541393\n",
      "Iteration 3 : Train Accuracy : 0.8504386935043869, \tValid  Accuracy : 0.8480424684804246,\t Train Loss : 2.75363283603414, \tValid Loss :  2.79760645613472 , Time : 0.020621400006348267\n",
      "Iteration 4 : Train Accuracy : 0.8505492885054929, \tValid  Accuracy : 0.8482636584826366,\t Train Loss : 2.752094543962966, \tValid Loss :  2.7950863685314657 , Time : 0.042581899993820116\n",
      "Iteration 5 : Train Accuracy : 0.8507336135073361, \tValid  Accuracy : 0.8482636584826366,\t Train Loss : 2.7492494830445366, \tValid Loss :  2.7941256328756414 , Time : 0.03388930000073742\n",
      "Iteration 6 : Train Accuracy : 0.8507704785077048, \tValid  Accuracy : 0.8483742534837425,\t Train Loss : 2.748909182744167, \tValid Loss :  2.7930501245762667 , Time : 0.05014030000893399\n",
      "Iteration 7 : Train Accuracy : 0.8508073435080734, \tValid  Accuracy : 0.8483742534837425,\t Train Loss : 2.747931141305231, \tValid Loss :  2.7919742334186797 , Time : 0.04967860000033397\n",
      "Iteration 8 : Train Accuracy : 0.8508442085084421, \tValid  Accuracy : 0.8484848484848485,\t Train Loss : 2.7467705444591646, \tValid Loss :  2.7903552186027976 , Time : 0.05970669999078382\n",
      "Iteration 9 : Train Accuracy : 0.8508810735088107, \tValid  Accuracy : 0.8484848484848485,\t Train Loss : 2.745976432459903, \tValid Loss :  2.787228050628177 , Time : 0.07508589999633841\n"
     ]
    },
    {
     "data": {
      "application/vnd.plotly.v1+json": {
       "config": {
        "plotlyServerURL": "https://plot.ly"
       },
       "data": [
        {
         "name": "train_loss",
         "type": "scatter",
         "x": [
          0,
          1,
          2,
          3,
          4,
          5,
          6,
          7,
          8,
          9
         ],
         "xaxis": "x",
         "y": [
          2.7700484388015902,
          2.7605220951814444,
          2.7582965192491287,
          2.75363283603414,
          2.752094543962966,
          2.7492494830445366,
          2.748909182744167,
          2.747931141305231,
          2.7467705444591646,
          2.745976432459903
         ],
         "yaxis": "y"
        },
        {
         "name": "train_accuracy",
         "type": "scatter",
         "x": [
          0,
          1,
          2,
          3,
          4,
          5,
          6,
          7,
          8,
          9
         ],
         "xaxis": "x2",
         "y": [
          0.8495170684951707,
          0.8500700435007005,
          0.8502175035021751,
          0.8504386935043869,
          0.8505492885054929,
          0.8507336135073361,
          0.8507704785077048,
          0.8508073435080734,
          0.8508442085084421,
          0.8508810735088107
         ],
         "yaxis": "y2"
        },
        {
         "name": "validation_loss",
         "type": "scatter",
         "x": [
          0,
          1,
          2,
          3,
          4,
          5,
          6,
          7,
          8,
          9
         ],
         "xaxis": "x3",
         "y": [
          2.813418616466814,
          2.805179426044218,
          2.8012003975375235,
          2.79760645613472,
          2.7950863685314657,
          2.7941256328756414,
          2.7930501245762667,
          2.7919742334186797,
          2.7903552186027976,
          2.787228050628177
         ],
         "yaxis": "y3"
        },
        {
         "name": "validation_accuracy",
         "type": "scatter",
         "x": [
          0,
          1,
          2,
          3,
          4,
          5,
          6,
          7,
          8,
          9
         ],
         "xaxis": "x4",
         "y": [
          0.847268303472683,
          0.8477106834771069,
          0.8479318734793188,
          0.8480424684804246,
          0.8482636584826366,
          0.8482636584826366,
          0.8483742534837425,
          0.8483742534837425,
          0.8484848484848485,
          0.8484848484848485
         ],
         "yaxis": "y4"
        }
       ],
       "layout": {
        "height": 600,
        "template": {
         "data": {
          "bar": [
           {
            "error_x": {
             "color": "#2a3f5f"
            },
            "error_y": {
             "color": "#2a3f5f"
            },
            "marker": {
             "line": {
              "color": "#E5ECF6",
              "width": 0.5
             }
            },
            "type": "bar"
           }
          ],
          "barpolar": [
           {
            "marker": {
             "line": {
              "color": "#E5ECF6",
              "width": 0.5
             }
            },
            "type": "barpolar"
           }
          ],
          "carpet": [
           {
            "aaxis": {
             "endlinecolor": "#2a3f5f",
             "gridcolor": "white",
             "linecolor": "white",
             "minorgridcolor": "white",
             "startlinecolor": "#2a3f5f"
            },
            "baxis": {
             "endlinecolor": "#2a3f5f",
             "gridcolor": "white",
             "linecolor": "white",
             "minorgridcolor": "white",
             "startlinecolor": "#2a3f5f"
            },
            "type": "carpet"
           }
          ],
          "choropleth": [
           {
            "colorbar": {
             "outlinewidth": 0,
             "ticks": ""
            },
            "type": "choropleth"
           }
          ],
          "contour": [
           {
            "colorbar": {
             "outlinewidth": 0,
             "ticks": ""
            },
            "colorscale": [
             [
              0,
              "#0d0887"
             ],
             [
              0.1111111111111111,
              "#46039f"
             ],
             [
              0.2222222222222222,
              "#7201a8"
             ],
             [
              0.3333333333333333,
              "#9c179e"
             ],
             [
              0.4444444444444444,
              "#bd3786"
             ],
             [
              0.5555555555555556,
              "#d8576b"
             ],
             [
              0.6666666666666666,
              "#ed7953"
             ],
             [
              0.7777777777777778,
              "#fb9f3a"
             ],
             [
              0.8888888888888888,
              "#fdca26"
             ],
             [
              1,
              "#f0f921"
             ]
            ],
            "type": "contour"
           }
          ],
          "contourcarpet": [
           {
            "colorbar": {
             "outlinewidth": 0,
             "ticks": ""
            },
            "type": "contourcarpet"
           }
          ],
          "heatmap": [
           {
            "colorbar": {
             "outlinewidth": 0,
             "ticks": ""
            },
            "colorscale": [
             [
              0,
              "#0d0887"
             ],
             [
              0.1111111111111111,
              "#46039f"
             ],
             [
              0.2222222222222222,
              "#7201a8"
             ],
             [
              0.3333333333333333,
              "#9c179e"
             ],
             [
              0.4444444444444444,
              "#bd3786"
             ],
             [
              0.5555555555555556,
              "#d8576b"
             ],
             [
              0.6666666666666666,
              "#ed7953"
             ],
             [
              0.7777777777777778,
              "#fb9f3a"
             ],
             [
              0.8888888888888888,
              "#fdca26"
             ],
             [
              1,
              "#f0f921"
             ]
            ],
            "type": "heatmap"
           }
          ],
          "heatmapgl": [
           {
            "colorbar": {
             "outlinewidth": 0,
             "ticks": ""
            },
            "colorscale": [
             [
              0,
              "#0d0887"
             ],
             [
              0.1111111111111111,
              "#46039f"
             ],
             [
              0.2222222222222222,
              "#7201a8"
             ],
             [
              0.3333333333333333,
              "#9c179e"
             ],
             [
              0.4444444444444444,
              "#bd3786"
             ],
             [
              0.5555555555555556,
              "#d8576b"
             ],
             [
              0.6666666666666666,
              "#ed7953"
             ],
             [
              0.7777777777777778,
              "#fb9f3a"
             ],
             [
              0.8888888888888888,
              "#fdca26"
             ],
             [
              1,
              "#f0f921"
             ]
            ],
            "type": "heatmapgl"
           }
          ],
          "histogram": [
           {
            "marker": {
             "colorbar": {
              "outlinewidth": 0,
              "ticks": ""
             }
            },
            "type": "histogram"
           }
          ],
          "histogram2d": [
           {
            "colorbar": {
             "outlinewidth": 0,
             "ticks": ""
            },
            "colorscale": [
             [
              0,
              "#0d0887"
             ],
             [
              0.1111111111111111,
              "#46039f"
             ],
             [
              0.2222222222222222,
              "#7201a8"
             ],
             [
              0.3333333333333333,
              "#9c179e"
             ],
             [
              0.4444444444444444,
              "#bd3786"
             ],
             [
              0.5555555555555556,
              "#d8576b"
             ],
             [
              0.6666666666666666,
              "#ed7953"
             ],
             [
              0.7777777777777778,
              "#fb9f3a"
             ],
             [
              0.8888888888888888,
              "#fdca26"
             ],
             [
              1,
              "#f0f921"
             ]
            ],
            "type": "histogram2d"
           }
          ],
          "histogram2dcontour": [
           {
            "colorbar": {
             "outlinewidth": 0,
             "ticks": ""
            },
            "colorscale": [
             [
              0,
              "#0d0887"
             ],
             [
              0.1111111111111111,
              "#46039f"
             ],
             [
              0.2222222222222222,
              "#7201a8"
             ],
             [
              0.3333333333333333,
              "#9c179e"
             ],
             [
              0.4444444444444444,
              "#bd3786"
             ],
             [
              0.5555555555555556,
              "#d8576b"
             ],
             [
              0.6666666666666666,
              "#ed7953"
             ],
             [
              0.7777777777777778,
              "#fb9f3a"
             ],
             [
              0.8888888888888888,
              "#fdca26"
             ],
             [
              1,
              "#f0f921"
             ]
            ],
            "type": "histogram2dcontour"
           }
          ],
          "mesh3d": [
           {
            "colorbar": {
             "outlinewidth": 0,
             "ticks": ""
            },
            "type": "mesh3d"
           }
          ],
          "parcoords": [
           {
            "line": {
             "colorbar": {
              "outlinewidth": 0,
              "ticks": ""
             }
            },
            "type": "parcoords"
           }
          ],
          "scatter": [
           {
            "marker": {
             "colorbar": {
              "outlinewidth": 0,
              "ticks": ""
             }
            },
            "type": "scatter"
           }
          ],
          "scatter3d": [
           {
            "line": {
             "colorbar": {
              "outlinewidth": 0,
              "ticks": ""
             }
            },
            "marker": {
             "colorbar": {
              "outlinewidth": 0,
              "ticks": ""
             }
            },
            "type": "scatter3d"
           }
          ],
          "scattercarpet": [
           {
            "marker": {
             "colorbar": {
              "outlinewidth": 0,
              "ticks": ""
             }
            },
            "type": "scattercarpet"
           }
          ],
          "scattergeo": [
           {
            "marker": {
             "colorbar": {
              "outlinewidth": 0,
              "ticks": ""
             }
            },
            "type": "scattergeo"
           }
          ],
          "scattergl": [
           {
            "marker": {
             "colorbar": {
              "outlinewidth": 0,
              "ticks": ""
             }
            },
            "type": "scattergl"
           }
          ],
          "scattermapbox": [
           {
            "marker": {
             "colorbar": {
              "outlinewidth": 0,
              "ticks": ""
             }
            },
            "type": "scattermapbox"
           }
          ],
          "scatterpolar": [
           {
            "marker": {
             "colorbar": {
              "outlinewidth": 0,
              "ticks": ""
             }
            },
            "type": "scatterpolar"
           }
          ],
          "scatterpolargl": [
           {
            "marker": {
             "colorbar": {
              "outlinewidth": 0,
              "ticks": ""
             }
            },
            "type": "scatterpolargl"
           }
          ],
          "scatterternary": [
           {
            "marker": {
             "colorbar": {
              "outlinewidth": 0,
              "ticks": ""
             }
            },
            "type": "scatterternary"
           }
          ],
          "surface": [
           {
            "colorbar": {
             "outlinewidth": 0,
             "ticks": ""
            },
            "colorscale": [
             [
              0,
              "#0d0887"
             ],
             [
              0.1111111111111111,
              "#46039f"
             ],
             [
              0.2222222222222222,
              "#7201a8"
             ],
             [
              0.3333333333333333,
              "#9c179e"
             ],
             [
              0.4444444444444444,
              "#bd3786"
             ],
             [
              0.5555555555555556,
              "#d8576b"
             ],
             [
              0.6666666666666666,
              "#ed7953"
             ],
             [
              0.7777777777777778,
              "#fb9f3a"
             ],
             [
              0.8888888888888888,
              "#fdca26"
             ],
             [
              1,
              "#f0f921"
             ]
            ],
            "type": "surface"
           }
          ],
          "table": [
           {
            "cells": {
             "fill": {
              "color": "#EBF0F8"
             },
             "line": {
              "color": "white"
             }
            },
            "header": {
             "fill": {
              "color": "#C8D4E3"
             },
             "line": {
              "color": "white"
             }
            },
            "type": "table"
           }
          ]
         },
         "layout": {
          "annotationdefaults": {
           "arrowcolor": "#2a3f5f",
           "arrowhead": 0,
           "arrowwidth": 1
          },
          "colorscale": {
           "diverging": [
            [
             0,
             "#8e0152"
            ],
            [
             0.1,
             "#c51b7d"
            ],
            [
             0.2,
             "#de77ae"
            ],
            [
             0.3,
             "#f1b6da"
            ],
            [
             0.4,
             "#fde0ef"
            ],
            [
             0.5,
             "#f7f7f7"
            ],
            [
             0.6,
             "#e6f5d0"
            ],
            [
             0.7,
             "#b8e186"
            ],
            [
             0.8,
             "#7fbc41"
            ],
            [
             0.9,
             "#4d9221"
            ],
            [
             1,
             "#276419"
            ]
           ],
           "sequential": [
            [
             0,
             "#0d0887"
            ],
            [
             0.1111111111111111,
             "#46039f"
            ],
            [
             0.2222222222222222,
             "#7201a8"
            ],
            [
             0.3333333333333333,
             "#9c179e"
            ],
            [
             0.4444444444444444,
             "#bd3786"
            ],
            [
             0.5555555555555556,
             "#d8576b"
            ],
            [
             0.6666666666666666,
             "#ed7953"
            ],
            [
             0.7777777777777778,
             "#fb9f3a"
            ],
            [
             0.8888888888888888,
             "#fdca26"
            ],
            [
             1,
             "#f0f921"
            ]
           ],
           "sequentialminus": [
            [
             0,
             "#0d0887"
            ],
            [
             0.1111111111111111,
             "#46039f"
            ],
            [
             0.2222222222222222,
             "#7201a8"
            ],
            [
             0.3333333333333333,
             "#9c179e"
            ],
            [
             0.4444444444444444,
             "#bd3786"
            ],
            [
             0.5555555555555556,
             "#d8576b"
            ],
            [
             0.6666666666666666,
             "#ed7953"
            ],
            [
             0.7777777777777778,
             "#fb9f3a"
            ],
            [
             0.8888888888888888,
             "#fdca26"
            ],
            [
             1,
             "#f0f921"
            ]
           ]
          },
          "colorway": [
           "#636efa",
           "#EF553B",
           "#00cc96",
           "#ab63fa",
           "#FFA15A",
           "#19d3f3",
           "#FF6692",
           "#B6E880",
           "#FF97FF",
           "#FECB52"
          ],
          "font": {
           "color": "#2a3f5f"
          },
          "geo": {
           "bgcolor": "white",
           "lakecolor": "white",
           "landcolor": "#E5ECF6",
           "showlakes": true,
           "showland": true,
           "subunitcolor": "white"
          },
          "hoverlabel": {
           "align": "left"
          },
          "hovermode": "closest",
          "mapbox": {
           "style": "light"
          },
          "paper_bgcolor": "white",
          "plot_bgcolor": "#E5ECF6",
          "polar": {
           "angularaxis": {
            "gridcolor": "white",
            "linecolor": "white",
            "ticks": ""
           },
           "bgcolor": "#E5ECF6",
           "radialaxis": {
            "gridcolor": "white",
            "linecolor": "white",
            "ticks": ""
           }
          },
          "scene": {
           "xaxis": {
            "backgroundcolor": "#E5ECF6",
            "gridcolor": "white",
            "gridwidth": 2,
            "linecolor": "white",
            "showbackground": true,
            "ticks": "",
            "zerolinecolor": "white"
           },
           "yaxis": {
            "backgroundcolor": "#E5ECF6",
            "gridcolor": "white",
            "gridwidth": 2,
            "linecolor": "white",
            "showbackground": true,
            "ticks": "",
            "zerolinecolor": "white"
           },
           "zaxis": {
            "backgroundcolor": "#E5ECF6",
            "gridcolor": "white",
            "gridwidth": 2,
            "linecolor": "white",
            "showbackground": true,
            "ticks": "",
            "zerolinecolor": "white"
           }
          },
          "shapedefaults": {
           "line": {
            "color": "#2a3f5f"
           }
          },
          "ternary": {
           "aaxis": {
            "gridcolor": "white",
            "linecolor": "white",
            "ticks": ""
           },
           "baxis": {
            "gridcolor": "white",
            "linecolor": "white",
            "ticks": ""
           },
           "bgcolor": "#E5ECF6",
           "caxis": {
            "gridcolor": "white",
            "linecolor": "white",
            "ticks": ""
           }
          },
          "title": {
           "x": 0.05
          },
          "xaxis": {
           "automargin": true,
           "gridcolor": "white",
           "linecolor": "white",
           "ticks": "",
           "zerolinecolor": "white",
           "zerolinewidth": 2
          },
          "yaxis": {
           "automargin": true,
           "gridcolor": "white",
           "linecolor": "white",
           "ticks": "",
           "zerolinecolor": "white",
           "zerolinewidth": 2
          }
         }
        },
        "title": {
         "text": "Convergence of the loss and accuracy"
        },
        "width": 800,
        "xaxis": {
         "anchor": "y",
         "domain": [
          0,
          0.45
         ]
        },
        "xaxis2": {
         "anchor": "y2",
         "domain": [
          0.55,
          1
         ]
        },
        "xaxis3": {
         "anchor": "y3",
         "domain": [
          0,
          0.45
         ]
        },
        "xaxis4": {
         "anchor": "y4",
         "domain": [
          0.55,
          1
         ]
        },
        "yaxis": {
         "anchor": "x",
         "domain": [
          0.575,
          1
         ]
        },
        "yaxis2": {
         "anchor": "x2",
         "domain": [
          0.575,
          1
         ]
        },
        "yaxis3": {
         "anchor": "x3",
         "domain": [
          0,
          0.425
         ]
        },
        "yaxis4": {
         "anchor": "x4",
         "domain": [
          0,
          0.425
         ]
        }
       }
      },
      "text/html": [
       "<div>\n",
       "        \n",
       "        \n",
       "            <div id=\"7be3c63c-aeb6-4b6a-9a51-a1ac3359fc51\" class=\"plotly-graph-div\" style=\"height:600px; width:800px;\"></div>\n",
       "            <script type=\"text/javascript\">\n",
       "                require([\"plotly\"], function(Plotly) {\n",
       "                    window.PLOTLYENV=window.PLOTLYENV || {};\n",
       "                    \n",
       "                if (document.getElementById(\"7be3c63c-aeb6-4b6a-9a51-a1ac3359fc51\")) {\n",
       "                    Plotly.newPlot(\n",
       "                        '7be3c63c-aeb6-4b6a-9a51-a1ac3359fc51',\n",
       "                        [{\"name\": \"train_loss\", \"type\": \"scatter\", \"x\": [0, 1, 2, 3, 4, 5, 6, 7, 8, 9], \"xaxis\": \"x\", \"y\": [2.7700484388015902, 2.7605220951814444, 2.7582965192491287, 2.75363283603414, 2.752094543962966, 2.7492494830445366, 2.748909182744167, 2.747931141305231, 2.7467705444591646, 2.745976432459903], \"yaxis\": \"y\"}, {\"name\": \"train_accuracy\", \"type\": \"scatter\", \"x\": [0, 1, 2, 3, 4, 5, 6, 7, 8, 9], \"xaxis\": \"x2\", \"y\": [0.8495170684951707, 0.8500700435007005, 0.8502175035021751, 0.8504386935043869, 0.8505492885054929, 0.8507336135073361, 0.8507704785077048, 0.8508073435080734, 0.8508442085084421, 0.8508810735088107], \"yaxis\": \"y2\"}, {\"name\": \"validation_loss\", \"type\": \"scatter\", \"x\": [0, 1, 2, 3, 4, 5, 6, 7, 8, 9], \"xaxis\": \"x3\", \"y\": [2.813418616466814, 2.805179426044218, 2.8012003975375235, 2.79760645613472, 2.7950863685314657, 2.7941256328756414, 2.7930501245762667, 2.7919742334186797, 2.7903552186027976, 2.787228050628177], \"yaxis\": \"y3\"}, {\"name\": \"validation_accuracy\", \"type\": \"scatter\", \"x\": [0, 1, 2, 3, 4, 5, 6, 7, 8, 9], \"xaxis\": \"x4\", \"y\": [0.847268303472683, 0.8477106834771069, 0.8479318734793188, 0.8480424684804246, 0.8482636584826366, 0.8482636584826366, 0.8483742534837425, 0.8483742534837425, 0.8484848484848485, 0.8484848484848485], \"yaxis\": \"y4\"}],\n",
       "                        {\"height\": 600, \"template\": {\"data\": {\"bar\": [{\"error_x\": {\"color\": \"#2a3f5f\"}, \"error_y\": {\"color\": \"#2a3f5f\"}, \"marker\": {\"line\": {\"color\": \"#E5ECF6\", \"width\": 0.5}}, \"type\": \"bar\"}], \"barpolar\": [{\"marker\": {\"line\": {\"color\": \"#E5ECF6\", \"width\": 0.5}}, \"type\": \"barpolar\"}], \"carpet\": [{\"aaxis\": {\"endlinecolor\": \"#2a3f5f\", \"gridcolor\": \"white\", \"linecolor\": \"white\", \"minorgridcolor\": \"white\", \"startlinecolor\": \"#2a3f5f\"}, \"baxis\": {\"endlinecolor\": \"#2a3f5f\", \"gridcolor\": \"white\", \"linecolor\": \"white\", \"minorgridcolor\": \"white\", \"startlinecolor\": \"#2a3f5f\"}, \"type\": \"carpet\"}], \"choropleth\": [{\"colorbar\": {\"outlinewidth\": 0, \"ticks\": \"\"}, \"type\": \"choropleth\"}], \"contour\": [{\"colorbar\": {\"outlinewidth\": 0, \"ticks\": \"\"}, \"colorscale\": [[0.0, \"#0d0887\"], [0.1111111111111111, \"#46039f\"], [0.2222222222222222, \"#7201a8\"], [0.3333333333333333, \"#9c179e\"], [0.4444444444444444, \"#bd3786\"], [0.5555555555555556, \"#d8576b\"], [0.6666666666666666, \"#ed7953\"], [0.7777777777777778, \"#fb9f3a\"], [0.8888888888888888, \"#fdca26\"], [1.0, \"#f0f921\"]], \"type\": \"contour\"}], \"contourcarpet\": [{\"colorbar\": {\"outlinewidth\": 0, \"ticks\": \"\"}, \"type\": \"contourcarpet\"}], \"heatmap\": [{\"colorbar\": {\"outlinewidth\": 0, \"ticks\": \"\"}, \"colorscale\": [[0.0, \"#0d0887\"], [0.1111111111111111, \"#46039f\"], [0.2222222222222222, \"#7201a8\"], [0.3333333333333333, \"#9c179e\"], [0.4444444444444444, \"#bd3786\"], [0.5555555555555556, \"#d8576b\"], [0.6666666666666666, \"#ed7953\"], [0.7777777777777778, \"#fb9f3a\"], [0.8888888888888888, \"#fdca26\"], [1.0, \"#f0f921\"]], \"type\": \"heatmap\"}], \"heatmapgl\": [{\"colorbar\": {\"outlinewidth\": 0, \"ticks\": \"\"}, \"colorscale\": [[0.0, \"#0d0887\"], [0.1111111111111111, \"#46039f\"], [0.2222222222222222, \"#7201a8\"], [0.3333333333333333, \"#9c179e\"], [0.4444444444444444, \"#bd3786\"], [0.5555555555555556, \"#d8576b\"], [0.6666666666666666, \"#ed7953\"], [0.7777777777777778, \"#fb9f3a\"], [0.8888888888888888, \"#fdca26\"], [1.0, \"#f0f921\"]], \"type\": \"heatmapgl\"}], \"histogram\": [{\"marker\": {\"colorbar\": {\"outlinewidth\": 0, \"ticks\": \"\"}}, \"type\": \"histogram\"}], \"histogram2d\": [{\"colorbar\": {\"outlinewidth\": 0, \"ticks\": \"\"}, \"colorscale\": [[0.0, \"#0d0887\"], [0.1111111111111111, \"#46039f\"], [0.2222222222222222, \"#7201a8\"], [0.3333333333333333, \"#9c179e\"], [0.4444444444444444, \"#bd3786\"], [0.5555555555555556, \"#d8576b\"], [0.6666666666666666, \"#ed7953\"], [0.7777777777777778, \"#fb9f3a\"], [0.8888888888888888, \"#fdca26\"], [1.0, \"#f0f921\"]], \"type\": \"histogram2d\"}], \"histogram2dcontour\": [{\"colorbar\": {\"outlinewidth\": 0, \"ticks\": \"\"}, \"colorscale\": [[0.0, \"#0d0887\"], [0.1111111111111111, \"#46039f\"], [0.2222222222222222, \"#7201a8\"], [0.3333333333333333, \"#9c179e\"], [0.4444444444444444, \"#bd3786\"], [0.5555555555555556, \"#d8576b\"], [0.6666666666666666, \"#ed7953\"], [0.7777777777777778, \"#fb9f3a\"], [0.8888888888888888, \"#fdca26\"], [1.0, \"#f0f921\"]], \"type\": \"histogram2dcontour\"}], \"mesh3d\": [{\"colorbar\": {\"outlinewidth\": 0, \"ticks\": \"\"}, \"type\": \"mesh3d\"}], \"parcoords\": [{\"line\": {\"colorbar\": {\"outlinewidth\": 0, \"ticks\": \"\"}}, \"type\": \"parcoords\"}], \"scatter\": [{\"marker\": {\"colorbar\": {\"outlinewidth\": 0, \"ticks\": \"\"}}, \"type\": \"scatter\"}], \"scatter3d\": [{\"line\": {\"colorbar\": {\"outlinewidth\": 0, \"ticks\": \"\"}}, \"marker\": {\"colorbar\": {\"outlinewidth\": 0, \"ticks\": \"\"}}, \"type\": \"scatter3d\"}], \"scattercarpet\": [{\"marker\": {\"colorbar\": {\"outlinewidth\": 0, \"ticks\": \"\"}}, \"type\": \"scattercarpet\"}], \"scattergeo\": [{\"marker\": {\"colorbar\": {\"outlinewidth\": 0, \"ticks\": \"\"}}, \"type\": \"scattergeo\"}], \"scattergl\": [{\"marker\": {\"colorbar\": {\"outlinewidth\": 0, \"ticks\": \"\"}}, \"type\": \"scattergl\"}], \"scattermapbox\": [{\"marker\": {\"colorbar\": {\"outlinewidth\": 0, \"ticks\": \"\"}}, \"type\": \"scattermapbox\"}], \"scatterpolar\": [{\"marker\": {\"colorbar\": {\"outlinewidth\": 0, \"ticks\": \"\"}}, \"type\": \"scatterpolar\"}], \"scatterpolargl\": [{\"marker\": {\"colorbar\": {\"outlinewidth\": 0, \"ticks\": \"\"}}, \"type\": \"scatterpolargl\"}], \"scatterternary\": [{\"marker\": {\"colorbar\": {\"outlinewidth\": 0, \"ticks\": \"\"}}, \"type\": \"scatterternary\"}], \"surface\": [{\"colorbar\": {\"outlinewidth\": 0, \"ticks\": \"\"}, \"colorscale\": [[0.0, \"#0d0887\"], [0.1111111111111111, \"#46039f\"], [0.2222222222222222, \"#7201a8\"], [0.3333333333333333, \"#9c179e\"], [0.4444444444444444, \"#bd3786\"], [0.5555555555555556, \"#d8576b\"], [0.6666666666666666, \"#ed7953\"], [0.7777777777777778, \"#fb9f3a\"], [0.8888888888888888, \"#fdca26\"], [1.0, \"#f0f921\"]], \"type\": \"surface\"}], \"table\": [{\"cells\": {\"fill\": {\"color\": \"#EBF0F8\"}, \"line\": {\"color\": \"white\"}}, \"header\": {\"fill\": {\"color\": \"#C8D4E3\"}, \"line\": {\"color\": \"white\"}}, \"type\": \"table\"}]}, \"layout\": {\"annotationdefaults\": {\"arrowcolor\": \"#2a3f5f\", \"arrowhead\": 0, \"arrowwidth\": 1}, \"colorscale\": {\"diverging\": [[0, \"#8e0152\"], [0.1, \"#c51b7d\"], [0.2, \"#de77ae\"], [0.3, \"#f1b6da\"], [0.4, \"#fde0ef\"], [0.5, \"#f7f7f7\"], [0.6, \"#e6f5d0\"], [0.7, \"#b8e186\"], [0.8, \"#7fbc41\"], [0.9, \"#4d9221\"], [1, \"#276419\"]], \"sequential\": [[0.0, \"#0d0887\"], [0.1111111111111111, \"#46039f\"], [0.2222222222222222, \"#7201a8\"], [0.3333333333333333, \"#9c179e\"], [0.4444444444444444, \"#bd3786\"], [0.5555555555555556, \"#d8576b\"], [0.6666666666666666, \"#ed7953\"], [0.7777777777777778, \"#fb9f3a\"], [0.8888888888888888, \"#fdca26\"], [1.0, \"#f0f921\"]], \"sequentialminus\": [[0.0, \"#0d0887\"], [0.1111111111111111, \"#46039f\"], [0.2222222222222222, \"#7201a8\"], [0.3333333333333333, \"#9c179e\"], [0.4444444444444444, \"#bd3786\"], [0.5555555555555556, \"#d8576b\"], [0.6666666666666666, \"#ed7953\"], [0.7777777777777778, \"#fb9f3a\"], [0.8888888888888888, \"#fdca26\"], [1.0, \"#f0f921\"]]}, \"colorway\": [\"#636efa\", \"#EF553B\", \"#00cc96\", \"#ab63fa\", \"#FFA15A\", \"#19d3f3\", \"#FF6692\", \"#B6E880\", \"#FF97FF\", \"#FECB52\"], \"font\": {\"color\": \"#2a3f5f\"}, \"geo\": {\"bgcolor\": \"white\", \"lakecolor\": \"white\", \"landcolor\": \"#E5ECF6\", \"showlakes\": true, \"showland\": true, \"subunitcolor\": \"white\"}, \"hoverlabel\": {\"align\": \"left\"}, \"hovermode\": \"closest\", \"mapbox\": {\"style\": \"light\"}, \"paper_bgcolor\": \"white\", \"plot_bgcolor\": \"#E5ECF6\", \"polar\": {\"angularaxis\": {\"gridcolor\": \"white\", \"linecolor\": \"white\", \"ticks\": \"\"}, \"bgcolor\": \"#E5ECF6\", \"radialaxis\": {\"gridcolor\": \"white\", \"linecolor\": \"white\", \"ticks\": \"\"}}, \"scene\": {\"xaxis\": {\"backgroundcolor\": \"#E5ECF6\", \"gridcolor\": \"white\", \"gridwidth\": 2, \"linecolor\": \"white\", \"showbackground\": true, \"ticks\": \"\", \"zerolinecolor\": \"white\"}, \"yaxis\": {\"backgroundcolor\": \"#E5ECF6\", \"gridcolor\": \"white\", \"gridwidth\": 2, \"linecolor\": \"white\", \"showbackground\": true, \"ticks\": \"\", \"zerolinecolor\": \"white\"}, \"zaxis\": {\"backgroundcolor\": \"#E5ECF6\", \"gridcolor\": \"white\", \"gridwidth\": 2, \"linecolor\": \"white\", \"showbackground\": true, \"ticks\": \"\", \"zerolinecolor\": \"white\"}}, \"shapedefaults\": {\"line\": {\"color\": \"#2a3f5f\"}}, \"ternary\": {\"aaxis\": {\"gridcolor\": \"white\", \"linecolor\": \"white\", \"ticks\": \"\"}, \"baxis\": {\"gridcolor\": \"white\", \"linecolor\": \"white\", \"ticks\": \"\"}, \"bgcolor\": \"#E5ECF6\", \"caxis\": {\"gridcolor\": \"white\", \"linecolor\": \"white\", \"ticks\": \"\"}}, \"title\": {\"x\": 0.05}, \"xaxis\": {\"automargin\": true, \"gridcolor\": \"white\", \"linecolor\": \"white\", \"ticks\": \"\", \"zerolinecolor\": \"white\", \"zerolinewidth\": 2}, \"yaxis\": {\"automargin\": true, \"gridcolor\": \"white\", \"linecolor\": \"white\", \"ticks\": \"\", \"zerolinecolor\": \"white\", \"zerolinewidth\": 2}}}, \"title\": {\"text\": \"Convergence of the loss and accuracy\"}, \"width\": 800, \"xaxis\": {\"anchor\": \"y\", \"domain\": [0.0, 0.45]}, \"xaxis2\": {\"anchor\": \"y2\", \"domain\": [0.55, 1.0]}, \"xaxis3\": {\"anchor\": \"y3\", \"domain\": [0.0, 0.45]}, \"xaxis4\": {\"anchor\": \"y4\", \"domain\": [0.55, 1.0]}, \"yaxis\": {\"anchor\": \"x\", \"domain\": [0.575, 1.0]}, \"yaxis2\": {\"anchor\": \"x2\", \"domain\": [0.575, 1.0]}, \"yaxis3\": {\"anchor\": \"x3\", \"domain\": [0.0, 0.425]}, \"yaxis4\": {\"anchor\": \"x4\", \"domain\": [0.0, 0.425]}},\n",
       "                        {\"responsive\": true}\n",
       "                    ).then(function(){\n",
       "                            \n",
       "var gd = document.getElementById('7be3c63c-aeb6-4b6a-9a51-a1ac3359fc51');\n",
       "var x = new MutationObserver(function (mutations, observer) {{\n",
       "        var display = window.getComputedStyle(gd).display;\n",
       "        if (!display || display === 'none') {{\n",
       "            console.log([gd, 'removed!']);\n",
       "            Plotly.purge(gd);\n",
       "            observer.disconnect();\n",
       "        }}\n",
       "}});\n",
       "\n",
       "// Listen for the removal of the full notebook cells\n",
       "var notebookContainer = gd.closest('#notebook-container');\n",
       "if (notebookContainer) {{\n",
       "    x.observe(notebookContainer, {childList: true});\n",
       "}}\n",
       "\n",
       "// Listen for the clearing of the current output cell\n",
       "var outputEl = gd.closest('.output');\n",
       "if (outputEl) {{\n",
       "    x.observe(outputEl, {childList: true});\n",
       "}}\n",
       "\n",
       "                        })\n",
       "                };\n",
       "                });\n",
       "            </script>\n",
       "        </div>"
      ]
     },
     "metadata": {},
     "output_type": "display_data"
    },
    {
     "name": "stdout",
     "output_type": "stream",
     "text": [
      "Execution Time:  2.690976858139038\n"
     ]
    }
   ],
   "source": [
    "if __name__ == \"__main__\":\n",
    "    LR = LogisticRegression()\n",
    "    start = time.time()\n",
    "    LR.train_loopRetroApprox(100)\n",
    "    end = time.time()\n",
    "    print('Execution Time: ', end - start)"
   ]
  },
  {
   "cell_type": "markdown",
   "metadata": {},
   "source": [
    "We can see that, at the start, this adapted \"Logistic Regression\" with the \"Retrospective Approximation\" quickly converges towards the optimum before moving rather constantly.\n",
    "\n",
    "On a few occasions, as the sample size increases, the algorithm takes a considerable amount of time to arrive at a solution (which satisfies the desired error threshold) depending on the new data in the sample with each iteration. Of course, the larger the sample, the more time it takes for an iteration to increase to achieve a desired level of performance. The iteration cost is therefore dependent on the new data in the sample to analyze. Because new samples less representative of the dataset have sometimes increased the optimal function that we wish to minimize, for which an \"Early-Stopping\" technique would be adequate if it is not possible to perform the function. 'algorithm for a long period of time in order to achieve the optimum."
   ]
  },
  {
   "cell_type": "code",
   "execution_count": null,
   "metadata": {},
   "outputs": [],
   "source": []
  }
 ],
 "metadata": {
  "kernelspec": {
   "display_name": "Python 3",
   "language": "python",
   "name": "python3"
  },
  "language_info": {
   "codemirror_mode": {
    "name": "ipython",
    "version": 3
   },
   "file_extension": ".py",
   "mimetype": "text/x-python",
   "name": "python",
   "nbconvert_exporter": "python",
   "pygments_lexer": "ipython3",
   "version": "3.7.6"
  }
 },
 "nbformat": 4,
 "nbformat_minor": 5
}
