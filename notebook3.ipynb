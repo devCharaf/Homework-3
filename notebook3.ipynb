{
 "cells": [
  {
   "cell_type": "markdown",
   "id": "ea44bc33-12e8-48c4-8aac-aab29765c456",
   "metadata": {},
   "source": [
    "<center> <h1>Homework 3</h1> </center>\n",
    "<p style=\"text-align: center;\">author: EL FATTAHI Charaf-Ed-Dine</p>"
   ]
  },
  {
   "cell_type": "markdown",
   "id": "deabd511-4daa-4655-8e8c-e2667f57818d",
   "metadata": {},
   "source": [
    "This homework solution has been inspired from [IFT 6390](https://admission.umontreal.ca/cours-et-horaires/cours/ift-6390/) homeworks as well as the work of [Francois David](https://www.zspapapa.com/francoisdavid).\n",
    "\n",
    "**IMPORTANT**\n",
    "\n",
    "* To run this code, make sure you adjust the path to the .csv file in the 15th line of the second cell according to you!"
   ]
  },
  {
   "cell_type": "markdown",
   "id": "bf70d05b-703d-49e6-a741-22e4e232a415",
   "metadata": {},
   "source": [
    "# Imports"
   ]
  },
  {
   "cell_type": "code",
   "execution_count": 74,
   "id": "4191a946-5f21-43d2-901f-0b1cbe399ca4",
   "metadata": {},
   "outputs": [],
   "source": [
    "import numpy as np \n",
    "import pandas as pd\n",
    "import time\n",
    "import timeit\n",
    "import os\n",
    "import scipy\n",
    "\n",
    "# sklearn\n",
    "from sklearn.model_selection import train_test_split\n",
    "from sklearn.preprocessing import OrdinalEncoder\n",
    "\n",
    "# plotly\n",
    "from plotly.subplots import make_subplots\n",
    "import plotly.graph_objects as go\n",
    "import plotly.express as px"
   ]
  },
  {
   "cell_type": "markdown",
   "id": "6e94005e-0caf-4761-97d2-4dfc2ddee0d6",
   "metadata": {},
   "source": [
    "# Logistic Regression and Retrospective Approximation"
   ]
  },
  {
   "cell_type": "code",
   "execution_count": 88,
   "id": "f347ed9b-142a-4400-849a-26e1c2413c82",
   "metadata": {},
   "outputs": [],
   "source": [
    "class LogisticRegression(object):\n",
    "    def __init__(self,\n",
    "                 optimizer='gd',\n",
    "                 gd_lr=0.001,\n",
    "                 eps=1e-8):\n",
    "        # Save the optimizer\n",
    "        self.optimizer = optimizer\n",
    "\n",
    "        # Save hyperparameter settings\n",
    "        self.gd_lr = gd_lr  # gd learning rate\n",
    "        self.eps = eps  # epsilon, for numerical stability\n",
    "\n",
    "        # Load the data\n",
    "        # self.df = pd.read_csv(os.path.join(data_path, 'bank/bank-full.csv'), sep=\";\")\n",
    "        self.df = pd.read_csv('data/bank/bank-full.csv', sep=\";\")\n",
    "\n",
    "        # Encoding data\n",
    "        cols = self.df.columns\n",
    "        num_cols = self.df._get_numeric_data().columns\n",
    "        cat_cols = list(set(cols) - set(num_cols))\n",
    "\n",
    "        ordinal_encoder = OrdinalEncoder()\n",
    "        self.df[cat_cols] = ordinal_encoder.fit_transform(self.df[cat_cols])\n",
    "\n",
    "        # split data into train, test and valid\n",
    "        self.train_data, self.test_data = train_test_split(self.df, test_size=0.2, random_state=1)\n",
    "        self.train_data, self.val_data = train_test_split(self.train_data, test_size=0.25, random_state=1)\n",
    "\n",
    "        # labels\n",
    "        self.train_labels = self.train_data.y\n",
    "        self.test_labels = self.test_data.y\n",
    "        self.val_labels = self.val_data.y\n",
    "\n",
    "        # drop the target value\n",
    "        self.train_data = self.train_data.drop(['y'], axis=1)\n",
    "        self.test_data = self.test_data.drop(['y'], axis=1)\n",
    "        self.val_data = self.val_data.drop(['y'], axis=1)\n",
    "\n",
    "        # transform back to numpy array\n",
    "        self.train_data = self.train_data.to_numpy()\n",
    "        self.test_data = self.test_data.to_numpy()\n",
    "        self.val_data = self.val_data.to_numpy()\n",
    "        self.train_labels = self.train_labels.to_numpy()\n",
    "        self.test_labels = self.test_labels.to_numpy()\n",
    "        self.val_labels = self.val_labels.to_numpy()\n",
    "\n",
    "        # Prepend a vector of all ones to each of the dataset\n",
    "        self.train_data = np.hstack([np.ones_like(self.train_data[:, 0])[:, np.newaxis], self.train_data])\n",
    "        self.val_data = np.hstack([np.ones_like(self.val_data[:, 0])[:, np.newaxis], self.val_data])\n",
    "        self.test_data = np.hstack([np.ones_like(self.test_data[:, 0])[:, np.newaxis], self.test_data])\n",
    "\n",
    "        # Initialize the weight matrix\n",
    "        np.random.seed(seed=42)\n",
    "        self.start_w = np.random.rand(self.train_data.shape[1])\n",
    "\n",
    "        # Initialize the train logs\n",
    "        self.train_logs = {'train_accuracy': [], 'validation_accuracy': [], 'train_loss': [], 'validation_loss': []}\n",
    "\n",
    "    def sigmoid(self, a: np.float128):\n",
    "        \"\"\"\n",
    "        inputs:\n",
    "            v: float\n",
    "\n",
    "        returns:\n",
    "            the logistic sigmoid evaluated at a\n",
    "        \"\"\"\n",
    "        # we use the scipy sigmoid instead of np.exp() to avoid RuntimeWarning: overflow\n",
    "        return scipy.special.expit(a)\n",
    "        # return 1 / (1 + np.exp(-a))\n",
    "\n",
    "    def forward(self, w, X):\n",
    "        \"\"\"\n",
    "        inputs: w: an array of the current weights, of shape (d,)\n",
    "                X: an array of n datapoints, of shape (n, d)\n",
    "\n",
    "        outputs: an array of the output of the logistic regression (not 0s and 1s yet)\n",
    "        \"\"\"\n",
    "        return self.sigmoid(np.dot(X, w))\n",
    "\n",
    "    def loss(self, w, X, y):\n",
    "        \"\"\"\n",
    "        inputs: w: an array of the current weights, of shape (d,)\n",
    "                X: an array of n datapoints, of shape (n, d)\n",
    "\n",
    "        outputs: the loss. This is exactly the negative log likelihood\n",
    "        \"\"\"\n",
    "        E = 10 ** (-8)\n",
    "        y_pred = self.sigmoid(np.dot(X, w))\n",
    "        cost = -np.sum(y * np.log(y_pred + E) + (1 - y) * np.log(1 - y_pred + E))\n",
    "        return cost\n",
    "\n",
    "    def gradient(self, w, X, y):\n",
    "        \"\"\"\n",
    "        inputs:\n",
    "            w: an array of the current weights\n",
    "\n",
    "        returns:\n",
    "            an array representing the gradient of the loss\n",
    "        \"\"\"\n",
    "        grad = np.dot(X.T, (self.sigmoid(np.dot(X, w)) - y))\n",
    "        return grad\n",
    "\n",
    "    def gd_step(self, grad, w, alpha):\n",
    "        \"\"\"\n",
    "        inputs:\n",
    "            w: an array of the current weights\n",
    "\n",
    "        returns:\n",
    "            a vector of weights updated according to a step of gradient descent\n",
    "            on the whole train dataset, using the learning rate self.gd_lr\n",
    "        \"\"\"\n",
    "        wnext = w - alpha * grad\n",
    "        return wnext\n",
    "\n",
    "    def compute_average_loss_and_accuracy(self, w, X, y):\n",
    "        outputs = self.forward(w, X)\n",
    "        predictions = np.array(np.round(outputs), dtype=int)\n",
    "        accuracy = np.mean(y == predictions)\n",
    "        loss = self.loss(w, X, y) / X.shape[0]\n",
    "        return loss, accuracy, predictions\n",
    "\n",
    "    def predict(self, X, w):\n",
    "        y_predict = self.forward(X, w)\n",
    "        return y_predict\n",
    "\n",
    "    def train_loopRetroApprox(self, iterations):\n",
    "        X = self.train_data\n",
    "        y = self.train_labels\n",
    "        \n",
    "        # starting weights\n",
    "        w = np.copy(self.start_w)\n",
    "        batch_size = 1\n",
    "        alpha = 0.9999\n",
    "\n",
    "        # starting sample size \n",
    "        sampleSize = 100 \n",
    "        iteration =  0\n",
    "        ErrorThreshold = 0.8\n",
    "        ErrorPercent = 1.0\n",
    "        wX =  {} \n",
    "        previousLoss = 2147483647\n",
    "\n",
    "        cumulIdx = 0\n",
    "        gradsOld = {}\n",
    "        ep = np.arange(iterations)\n",
    "        for iteration in range(iterations):\n",
    "            start = timeit.default_timer()\n",
    "            # Error reset \n",
    "            ErrorPercent = 1.0\n",
    "\n",
    "            Xt = self.train_data\n",
    "            yt = self.train_labels\n",
    "            X_trainS = Xt[:sampleSize][:]\n",
    "            y_trainS = yt[:sampleSize]\n",
    "\n",
    "            Xv = self.val_data\n",
    "            yv = self.val_labels\n",
    "            X_validS = Xv[:sampleSize][ :]\n",
    "            y_validS = yv[:sampleSize]\n",
    "\n",
    "            # Adjust the learning rate\n",
    "            subAlpha = alpha\n",
    "            p = 0\n",
    "            while(ErrorPercent >  ErrorThreshold):\n",
    "                gradsS = 0\n",
    "                \n",
    "                for i in range(sampleSize):\n",
    "                    batchX = X_trainS[1 * (i + cumulIdx):1 * (i + cumulIdx + 1), :]\n",
    "                    batchY = y_trainS[1 * (i + cumulIdx):1 * (i + cumulIdx + 1)]\n",
    "                    cumulIdx += 1 \n",
    "                    \n",
    "                    # To avoid index error\n",
    "                    if cumulIdx == X_trainS.shape[0]-1:\n",
    "                        cumulIdx = 0 \n",
    "\n",
    "                    loss = self.loss(w, batchX, batchY)\n",
    "\n",
    "                    # computing the average of the loss\n",
    "                    if i != 0:\n",
    "                        lossS += loss\n",
    "                    else:\n",
    "                        lossS = loss\n",
    "            \n",
    "                # Divide by the sampleSize\n",
    "                if iteration == 0 : \n",
    "                    lossOld = lossS * 1 / sampleSize\n",
    "                else : \n",
    "                    lossOld = (lossS + lossOld) / sampleSize * 2\n",
    "\n",
    "                # Update the weights\n",
    "                w = self.gd_step(lossOld, w, subAlpha)\n",
    "                \n",
    "                # Calculate the loss according to the sample\n",
    "                train_loss, train_accuracy, _ = self.compute_average_loss_and_accuracy(w, X_trainS, y_trainS)\n",
    "                valid_loss, valid_accuracy, _ = self.compute_average_loss_and_accuracy(w, X_validS, y_validS)\n",
    "                \n",
    "                # Check if the train_accuracy updates\n",
    "                if p == train_accuracy:\n",
    "                    print(f\"###################### {ErrorThreshold}\")\n",
    "                    break\n",
    "                \n",
    "                p = train_accuracy\n",
    "                \n",
    "                # Update error\n",
    "                ErrorPercent = 1.0 - train_accuracy\n",
    "                \n",
    "                # Update learning rate\n",
    "                if(ErrorPercent  >  ErrorThreshold):\n",
    "                    subAlpha *= .988888\n",
    "\n",
    "            # Stop timer\n",
    "            stop = timeit.default_timer()\n",
    "\n",
    "            # Compute the loss over the complete dataset\n",
    "            X_trainAll = self.train_data\n",
    "            y_trainAll = self.train_labels\n",
    "            train_lossAll, train_accuracyAll, _ = self.compute_average_loss_and_accuracy(w, X_trainAll, y_trainAll)\n",
    "            X_validAll = self.val_data\n",
    "            y_validAll = self.val_labels\n",
    "            valid_lossAll, valid_accuracyAll, _ = self.compute_average_loss_and_accuracy(w, X_validAll, y_validAll)\n",
    "\n",
    "            if train_loss > previousLoss:\n",
    "                alpha = alpha * .923\n",
    "            previousLoss = train_lossAll\n",
    "\n",
    "            # update sampleSize\n",
    "            sampleSize += 270\n",
    "\n",
    "            # ifnot, the while loop goes on forever\n",
    "            if ErrorThreshold > 0.18:\n",
    "                ErrorThreshold  *= .96\n",
    "            \n",
    "            # print loss and acuracy for each iteration\n",
    "            print(f\"Iteration {iteration} : Train Accuracy : {train_accuracyAll}, \\tValid  Accuracy : {valid_accuracyAll},\\t Train Loss : {train_lossAll}, \\tValid Loss :  {valid_lossAll} , Time : {stop - start}\")\n",
    "\n",
    "            self.train_logs['train_accuracy'].append(train_accuracyAll)\n",
    "            self.train_logs['validation_accuracy'].append(valid_accuracyAll)\n",
    "            self.train_logs['train_loss'].append(train_lossAll)\n",
    "            self.train_logs['validation_loss'].append(valid_lossAll)\n",
    "        \n",
    "        # ploting \n",
    "        fig = make_subplots(rows=2, cols=2)\n",
    "\n",
    "        fig.add_trace(\n",
    "            go.Scatter(name=\"train_loss\", x=ep, y=self.train_logs['train_loss']),\n",
    "            row=1, col=1\n",
    "        )\n",
    "\n",
    "        fig.add_trace(\n",
    "            go.Scatter(name=\"train_accuracy\", x=ep, y=self.train_logs['train_accuracy']),\n",
    "            row=1, col=2\n",
    "        )\n",
    "        \n",
    "        fig.add_trace(\n",
    "            go.Scatter(name=\"validation_loss\", x=ep, y=self.train_logs['validation_loss']),\n",
    "            row=2, col=1\n",
    "        )\n",
    "\n",
    "        fig.add_trace(\n",
    "            go.Scatter(name=\"validation_accuracy\", x=ep, y=self.train_logs['validation_accuracy']),\n",
    "            row=2, col=2\n",
    "        )\n",
    "        \n",
    "        fig.update_layout(height=600, width=800, title_text=\"Convergence of the loss and accuracy\")\n",
    "        fig.show()\n",
    "\n",
    "        return self.train_logs"
   ]
  },
  {
   "cell_type": "markdown",
   "id": "11616e4a-0c71-421e-8695-e5a32ac69611",
   "metadata": {},
   "source": [
    "# Main"
   ]
  },
  {
   "cell_type": "code",
   "execution_count": 89,
   "id": "d8f50a15-b1a9-4537-8544-7b791361bda5",
   "metadata": {},
   "outputs": [
    {
     "name": "stdout",
     "output_type": "stream",
     "text": [
      "Iteration 0 : Train Accuracy : 0.8495170684951707, \tValid  Accuracy : 0.847268303472683,\t Train Loss : 2.7700484388015902, \tValid Loss :  2.813418616466814 , Time : 0.0017614979997233604\n",
      "Iteration 1 : Train Accuracy : 0.8500700435007005, \tValid  Accuracy : 0.8477106834771069,\t Train Loss : 2.7605220951814444, \tValid Loss :  2.805179426044218 , Time : 0.008562666999750945\n",
      "Iteration 2 : Train Accuracy : 0.8502175035021751, \tValid  Accuracy : 0.8479318734793188,\t Train Loss : 2.7582965192491287, \tValid Loss :  2.8012003975375235 , Time : 0.013558663000367233\n",
      "Iteration 3 : Train Accuracy : 0.8504386935043869, \tValid  Accuracy : 0.8480424684804246,\t Train Loss : 2.75363283603414, \tValid Loss :  2.79760645613472 , Time : 0.02144371000031242\n",
      "Iteration 4 : Train Accuracy : 0.8505492885054929, \tValid  Accuracy : 0.8482636584826366,\t Train Loss : 2.752094543962966, \tValid Loss :  2.7950863685314657 , Time : 0.030219307000152185\n",
      "Iteration 5 : Train Accuracy : 0.8507336135073361, \tValid  Accuracy : 0.8482636584826366,\t Train Loss : 2.7492494830445366, \tValid Loss :  2.7941256328756414 , Time : 0.025298997999925632\n",
      "Iteration 6 : Train Accuracy : 0.8507704785077048, \tValid  Accuracy : 0.8483742534837425,\t Train Loss : 2.748909182744167, \tValid Loss :  2.7930501245762667 , Time : 0.029456139000103576\n",
      "Iteration 7 : Train Accuracy : 0.8508073435080734, \tValid  Accuracy : 0.8483742534837425,\t Train Loss : 2.747931141305231, \tValid Loss :  2.7919742334186797 , Time : 0.03425764399980835\n",
      "Iteration 8 : Train Accuracy : 0.8508442085084421, \tValid  Accuracy : 0.8484848484848485,\t Train Loss : 2.7467705444591646, \tValid Loss :  2.7903552186027976 , Time : 0.042488615000365826\n",
      "Iteration 9 : Train Accuracy : 0.8508810735088107, \tValid  Accuracy : 0.8484848484848485,\t Train Loss : 2.745976432459903, \tValid Loss :  2.787228050628177 , Time : 0.04701095500058727\n",
      "Iteration 10 : Train Accuracy : 0.8509179385091794, \tValid  Accuracy : 0.8488166334881664,\t Train Loss : 2.7452908665351887, \tValid Loss :  2.7835226664249655 , Time : 0.049893008999788435\n",
      "Iteration 11 : Train Accuracy : 0.8509916685099167, \tValid  Accuracy : 0.8489272284892723,\t Train Loss : 2.7448431213407534, \tValid Loss :  2.7828634448197342 , Time : 0.05277148900040629\n",
      "Iteration 12 : Train Accuracy : 0.8510285335102853, \tValid  Accuracy : 0.8489272284892723,\t Train Loss : 2.744157000178861, \tValid Loss :  2.782863278416429 , Time : 0.05662507499982894\n",
      "Iteration 13 : Train Accuracy : 0.8510285335102853, \tValid  Accuracy : 0.8489272284892723,\t Train Loss : 2.7440673479600965, \tValid Loss :  2.7828625839595444 , Time : 0.062249497000266274\n",
      "Iteration 14 : Train Accuracy : 0.8510285335102853, \tValid  Accuracy : 0.8489272284892723,\t Train Loss : 2.743643424725098, \tValid Loss :  2.7827792322683442 , Time : 0.070269938999445\n",
      "Iteration 15 : Train Accuracy : 0.851065398510654, \tValid  Accuracy : 0.8489272284892723,\t Train Loss : 2.7419821556865664, \tValid Loss :  2.7823188144788973 , Time : 0.07110183100030554\n",
      "Iteration 16 : Train Accuracy : 0.85117599351176, \tValid  Accuracy : 0.8489272284892723,\t Train Loss : 2.7411028938091504, \tValid Loss :  2.7817409214835425 , Time : 0.07612143999995169\n",
      "Iteration 17 : Train Accuracy : 0.85117599351176, \tValid  Accuracy : 0.8489272284892723,\t Train Loss : 2.740117661070927, \tValid Loss :  2.781210497742182 , Time : 0.08099910800046928\n",
      "Iteration 18 : Train Accuracy : 0.8512497235124973, \tValid  Accuracy : 0.8490378234903783,\t Train Loss : 2.739218714582803, \tValid Loss :  2.7806025366289426 , Time : 0.09021873899928323\n",
      "Iteration 19 : Train Accuracy : 0.8512865885128659, \tValid  Accuracy : 0.8490378234903783,\t Train Loss : 2.7388433127559586, \tValid Loss :  2.780056433372369 , Time : 0.09130112000002555\n",
      "Iteration 20 : Train Accuracy : 0.8512865885128659, \tValid  Accuracy : 0.8490378234903783,\t Train Loss : 2.73921360793952, \tValid Loss :  2.779526263529789 , Time : 0.09676804100035952\n",
      "Iteration 21 : Train Accuracy : 0.8512865885128659, \tValid  Accuracy : 0.8489272284892723,\t Train Loss : 2.7393532660023845, \tValid Loss :  2.7803251572433623 , Time : 0.10424652399979095\n",
      "Iteration 22 : Train Accuracy : 0.8512865885128659, \tValid  Accuracy : 0.8490378234903783,\t Train Loss : 2.7391059193015703, \tValid Loss :  2.7808343734277843 , Time : 0.10402849300044181\n",
      "Iteration 23 : Train Accuracy : 0.8512865885128659, \tValid  Accuracy : 0.8490378234903783,\t Train Loss : 2.7388571134323216, \tValid Loss :  2.7808261437431825 , Time : 0.10914932699961355\n",
      "Iteration 24 : Train Accuracy : 0.8513234535132346, \tValid  Accuracy : 0.8490378234903783,\t Train Loss : 2.7387244245145155, \tValid Loss :  2.7808260503022177 , Time : 0.11685874100021465\n",
      "Iteration 25 : Train Accuracy : 0.8513234535132346, \tValid  Accuracy : 0.8490378234903783,\t Train Loss : 2.738723189806176, \tValid Loss :  2.7808260494150607 , Time : 0.11687516699930711\n",
      "Iteration 26 : Train Accuracy : 0.8513234535132346, \tValid  Accuracy : 0.8490378234903783,\t Train Loss : 2.738723188434189, \tValid Loss :  2.7808260494056425 , Time : 0.114399924999816\n",
      "Iteration 27 : Train Accuracy : 0.8513234535132346, \tValid  Accuracy : 0.8490378234903783,\t Train Loss : 2.738723188432866, \tValid Loss :  2.78082604940555 , Time : 0.12688852999963274\n",
      "Iteration 28 : Train Accuracy : 0.8513234535132346, \tValid  Accuracy : 0.8490378234903783,\t Train Loss : 2.7387231884263166, \tValid Loss :  2.7808260494055492 , Time : 0.13750552100009372\n",
      "Iteration 29 : Train Accuracy : 0.8513234535132346, \tValid  Accuracy : 0.8490378234903783,\t Train Loss : 2.738723187961373, \tValid Loss :  2.7808260494055492 , Time : 0.12826601000051596\n",
      "Iteration 30 : Train Accuracy : 0.8513234535132346, \tValid  Accuracy : 0.8490378234903783,\t Train Loss : 2.738723154302128, \tValid Loss :  2.7808260494055492 , Time : 0.147044485999686\n",
      "Iteration 31 : Train Accuracy : 0.8513234535132346, \tValid  Accuracy : 0.8490378234903783,\t Train Loss : 2.7387206136618234, \tValid Loss :  2.7808260494055492 , Time : 0.15016020799976104\n",
      "Iteration 32 : Train Accuracy : 0.8513234535132346, \tValid  Accuracy : 0.8490378234903783,\t Train Loss : 2.7386661329487443, \tValid Loss :  2.7808260494055492 , Time : 0.16895104100058234\n",
      "Iteration 33 : Train Accuracy : 0.8513234535132346, \tValid  Accuracy : 0.8490378234903783,\t Train Loss : 2.7385389851430357, \tValid Loss :  2.7808260494055492 , Time : 0.18491116299992427\n",
      "Iteration 34 : Train Accuracy : 0.8513234535132346, \tValid  Accuracy : 0.8490378234903783,\t Train Loss : 2.738406073939736, \tValid Loss :  2.7808260494055492 , Time : 0.1861482549993525\n",
      "Iteration 35 : Train Accuracy : 0.8513234535132346, \tValid  Accuracy : 0.8490378234903783,\t Train Loss : 2.738270568349827, \tValid Loss :  2.7808260494055492 , Time : 0.19407737700021244\n",
      "Iteration 36 : Train Accuracy : 0.8513234535132346, \tValid  Accuracy : 0.8490378234903783,\t Train Loss : 2.738140079250881, \tValid Loss :  2.7808260494055492 , Time : 0.18462070300029154\n",
      "Iteration 37 : Train Accuracy : 0.8513603185136032, \tValid  Accuracy : 0.8490378234903783,\t Train Loss : 2.738054438619694, \tValid Loss :  2.7808260494055492 , Time : 0.19814207600029476\n",
      "Iteration 38 : Train Accuracy : 0.8513603185136032, \tValid  Accuracy : 0.8490378234903783,\t Train Loss : 2.7380444244901696, \tValid Loss :  2.7808260494055492 , Time : 0.19881769600033294\n",
      "Iteration 39 : Train Accuracy : 0.8513603185136032, \tValid  Accuracy : 0.8490378234903783,\t Train Loss : 2.738044118207223, \tValid Loss :  2.7808260494055492 , Time : 0.21701980600028037\n",
      "Iteration 40 : Train Accuracy : 0.8513603185136032, \tValid  Accuracy : 0.8490378234903783,\t Train Loss : 2.738044109837437, \tValid Loss :  2.7808260494055492 , Time : 0.2024792410002192\n",
      "Iteration 41 : Train Accuracy : 0.8513603185136032, \tValid  Accuracy : 0.8490378234903783,\t Train Loss : 2.738044104012265, \tValid Loss :  2.7808260494055492 , Time : 0.22167424700000993\n",
      "Iteration 42 : Train Accuracy : 0.8513603185136032, \tValid  Accuracy : 0.8490378234903783,\t Train Loss : 2.7380226737325914, \tValid Loss :  2.7808260494055492 , Time : 0.1929794600000605\n",
      "Iteration 43 : Train Accuracy : 0.8513603185136032, \tValid  Accuracy : 0.8490378234903783,\t Train Loss : 2.737715182202278, \tValid Loss :  2.7808260494055492 , Time : 0.23142620900034672\n",
      "Iteration 44 : Train Accuracy : 0.8513603185136032, \tValid  Accuracy : 0.8490378234903783,\t Train Loss : 2.737397741293405, \tValid Loss :  2.7808260494055492 , Time : 0.22987230899980204\n",
      "Iteration 45 : Train Accuracy : 0.8513971835139719, \tValid  Accuracy : 0.8490378234903783,\t Train Loss : 2.737361791036293, \tValid Loss :  2.7808260494055492 , Time : 0.22729985099977057\n",
      "Iteration 46 : Train Accuracy : 0.8513971835139719, \tValid  Accuracy : 0.8490378234903783,\t Train Loss : 2.737351052561301, \tValid Loss :  2.7808260494055492 , Time : 0.2317815899996276\n",
      "Iteration 47 : Train Accuracy : 0.8513971835139719, \tValid  Accuracy : 0.8490378234903783,\t Train Loss : 2.7373202614626764, \tValid Loss :  2.7808260494055492 , Time : 0.2409993969995412\n",
      "Iteration 48 : Train Accuracy : 0.8513971835139719, \tValid  Accuracy : 0.8490378234903783,\t Train Loss : 2.7372636831790307, \tValid Loss :  2.7808260494055492 , Time : 0.23804558600022574\n",
      "Iteration 49 : Train Accuracy : 0.8513971835139719, \tValid  Accuracy : 0.8490378234903783,\t Train Loss : 2.737191032016418, \tValid Loss :  2.7808260494055492 , Time : 0.235455052999896\n",
      "Iteration 50 : Train Accuracy : 0.8513971835139719, \tValid  Accuracy : 0.8490378234903783,\t Train Loss : 2.737112841718682, \tValid Loss :  2.7808260494055492 , Time : 0.2448743539998759\n",
      "Iteration 51 : Train Accuracy : 0.8513971835139719, \tValid  Accuracy : 0.8490378234903783,\t Train Loss : 2.7370375191525262, \tValid Loss :  2.7808260494055492 , Time : 0.2531619560004401\n",
      "Iteration 52 : Train Accuracy : 0.8513971835139719, \tValid  Accuracy : 0.8490378234903783,\t Train Loss : 2.7369669973484823, \tValid Loss :  2.7808260494055492 , Time : 0.26387349600008747\n",
      "Iteration 53 : Train Accuracy : 0.8513971835139719, \tValid  Accuracy : 0.8490378234903783,\t Train Loss : 2.736901003871657, \tValid Loss :  2.7808260494055492 , Time : 0.256835246999799\n",
      "Iteration 54 : Train Accuracy : 0.8513971835139719, \tValid  Accuracy : 0.8490378234903783,\t Train Loss : 2.7368400061120908, \tValid Loss :  2.7808260494055492 , Time : 0.25393509500008804\n",
      "Iteration 55 : Train Accuracy : 0.8513971835139719, \tValid  Accuracy : 0.8490378234903783,\t Train Loss : 2.7367832283754243, \tValid Loss :  2.7808260494055492 , Time : 0.2707099629997174\n",
      "Iteration 56 : Train Accuracy : 0.8513971835139719, \tValid  Accuracy : 0.8490378234903783,\t Train Loss : 2.7367315446325344, \tValid Loss :  2.7808260494055492 , Time : 0.23158846699971036\n",
      "Iteration 57 : Train Accuracy : 0.8513971835139719, \tValid  Accuracy : 0.8490378234903783,\t Train Loss : 2.7366833048601413, \tValid Loss :  2.7808260494055492 , Time : 0.2676465159993313\n",
      "Iteration 58 : Train Accuracy : 0.8513971835139719, \tValid  Accuracy : 0.8490378234903783,\t Train Loss : 2.7366394297831955, \tValid Loss :  2.7808260494055492 , Time : 0.2683880679996946\n",
      "Iteration 59 : Train Accuracy : 0.8513971835139719, \tValid  Accuracy : 0.8490378234903783,\t Train Loss : 2.7365985958349004, \tValid Loss :  2.7808260494055492 , Time : 0.29165380600079516\n",
      "Iteration 60 : Train Accuracy : 0.8513971835139719, \tValid  Accuracy : 0.8490378234903783,\t Train Loss : 2.7365612323467428, \tValid Loss :  2.7808260494055492 , Time : 0.30298513999969146\n",
      "Iteration 61 : Train Accuracy : 0.8513971835139719, \tValid  Accuracy : 0.8490378234903783,\t Train Loss : 2.7365264726096425, \tValid Loss :  2.7808260494055492 , Time : 0.28366131500024494\n",
      "Iteration 62 : Train Accuracy : 0.8513971835139719, \tValid  Accuracy : 0.8490378234903783,\t Train Loss : 2.736494441035703, \tValid Loss :  2.7808260494055492 , Time : 0.2932777919995715\n",
      "Iteration 63 : Train Accuracy : 0.8513971835139719, \tValid  Accuracy : 0.8490378234903783,\t Train Loss : 2.7364647560934143, \tValid Loss :  2.7808260494055492 , Time : 0.3059199700001045\n",
      "Iteration 64 : Train Accuracy : 0.8513971835139719, \tValid  Accuracy : 0.8490378234903783,\t Train Loss : 2.736437417054267, \tValid Loss :  2.7808260494055492 , Time : 0.30146621099993354\n",
      "Iteration 65 : Train Accuracy : 0.8513971835139719, \tValid  Accuracy : 0.8490378234903783,\t Train Loss : 2.736412043077872, \tValid Loss :  2.7808260494055492 , Time : 0.31238532599945756\n",
      "Iteration 66 : Train Accuracy : 0.8513971835139719, \tValid  Accuracy : 0.8490378234903783,\t Train Loss : 2.7363889708510585, \tValid Loss :  2.7808260494055492 , Time : 0.31475712500014197\n",
      "Iteration 67 : Train Accuracy : 0.8513971835139719, \tValid  Accuracy : 0.8490378234903783,\t Train Loss : 2.7363672929151086, \tValid Loss :  2.7808260494055492 , Time : 0.3104243419993509\n",
      "Iteration 68 : Train Accuracy : 0.8513971835139719, \tValid  Accuracy : 0.8490378234903783,\t Train Loss : 2.7363477081731555, \tValid Loss :  2.7808260494055492 , Time : 0.32785181399958674\n",
      "Iteration 69 : Train Accuracy : 0.8513971835139719, \tValid  Accuracy : 0.8490378234903783,\t Train Loss : 2.7363295175494944, \tValid Loss :  2.7808260494055492 , Time : 0.3312031469995418\n",
      "Iteration 70 : Train Accuracy : 0.8513971835139719, \tValid  Accuracy : 0.8490378234903783,\t Train Loss : 2.736312860066614, \tValid Loss :  2.7808260494055492 , Time : 0.32447019099981844\n",
      "Iteration 71 : Train Accuracy : 0.8513971835139719, \tValid  Accuracy : 0.8490378234903783,\t Train Loss : 2.736297581434564, \tValid Loss :  2.7808260494055492 , Time : 0.3308397920000061\n",
      "Iteration 72 : Train Accuracy : 0.8513971835139719, \tValid  Accuracy : 0.8490378234903783,\t Train Loss : 2.7362836044953798, \tValid Loss :  2.7808260494055492 , Time : 0.34210382899982505\n",
      "Iteration 73 : Train Accuracy : 0.8513971835139719, \tValid  Accuracy : 0.8490378234903783,\t Train Loss : 2.7362707966865587, \tValid Loss :  2.7808260494055492 , Time : 0.34796215999995184\n",
      "Iteration 74 : Train Accuracy : 0.8513971835139719, \tValid  Accuracy : 0.8490378234903783,\t Train Loss : 2.7362581174315417, \tValid Loss :  2.7808260494055492 , Time : 0.34690991600018606\n",
      "Iteration 75 : Train Accuracy : 0.8513971835139719, \tValid  Accuracy : 0.8490378234903783,\t Train Loss : 2.7362454932289433, \tValid Loss :  2.7808260494055492 , Time : 0.3541431840003497\n",
      "Iteration 76 : Train Accuracy : 0.8513971835139719, \tValid  Accuracy : 0.8490378234903783,\t Train Loss : 2.736233017301883, \tValid Loss :  2.7808260494055492 , Time : 0.36415651199968124\n",
      "Iteration 77 : Train Accuracy : 0.8513971835139719, \tValid  Accuracy : 0.8490378234903783,\t Train Loss : 2.7362206397257074, \tValid Loss :  2.7808260494055492 , Time : 0.3633706170003279\n",
      "Iteration 78 : Train Accuracy : 0.8513971835139719, \tValid  Accuracy : 0.8490378234903783,\t Train Loss : 2.7362084703512712, \tValid Loss :  2.7808260494055492 , Time : 0.36039773899938154\n",
      "Iteration 79 : Train Accuracy : 0.8513971835139719, \tValid  Accuracy : 0.8490378234903783,\t Train Loss : 2.736196449808803, \tValid Loss :  2.7808260494055492 , Time : 0.36140323099971283\n",
      "Iteration 80 : Train Accuracy : 0.8513971835139719, \tValid  Accuracy : 0.8490378234903783,\t Train Loss : 2.736184636637947, \tValid Loss :  2.7808260494055492 , Time : 0.3841012220000266\n",
      "Iteration 81 : Train Accuracy : 0.8513971835139719, \tValid  Accuracy : 0.8490378234903783,\t Train Loss : 2.7361730537739932, \tValid Loss :  2.7808260494055492 , Time : 0.37847397699988505\n",
      "Iteration 82 : Train Accuracy : 0.8513971835139719, \tValid  Accuracy : 0.8490378234903783,\t Train Loss : 2.73616180076413, \tValid Loss :  2.7808260494055492 , Time : 0.39434341800006223\n",
      "Iteration 83 : Train Accuracy : 0.8513971835139719, \tValid  Accuracy : 0.8490378234903783,\t Train Loss : 2.7361506733733063, \tValid Loss :  2.7808260494055492 , Time : 0.3870598710000195\n",
      "Iteration 84 : Train Accuracy : 0.8513971835139719, \tValid  Accuracy : 0.8490378234903783,\t Train Loss : 2.736140011845461, \tValid Loss :  2.7808260494055492 , Time : 0.39732550300050207\n",
      "Iteration 85 : Train Accuracy : 0.8513971835139719, \tValid  Accuracy : 0.8490378234903783,\t Train Loss : 2.736129574071145, \tValid Loss :  2.7808260494055492 , Time : 0.39167598000040016\n",
      "Iteration 86 : Train Accuracy : 0.8513971835139719, \tValid  Accuracy : 0.8490378234903783,\t Train Loss : 2.736119620526663, \tValid Loss :  2.7808260494055492 , Time : 0.41135327400024835\n",
      "Iteration 87 : Train Accuracy : 0.8513971835139719, \tValid  Accuracy : 0.8490378234903783,\t Train Loss : 2.7361099616498037, \tValid Loss :  2.7808260494055492 , Time : 0.4142932209997525\n",
      "Iteration 88 : Train Accuracy : 0.8513971835139719, \tValid  Accuracy : 0.8490378234903783,\t Train Loss : 2.7361008530372746, \tValid Loss :  2.7808260494055492 , Time : 0.41076426100062235\n",
      "Iteration 89 : Train Accuracy : 0.8514340485143405, \tValid  Accuracy : 0.8490378234903783,\t Train Loss : 2.7360920804901867, \tValid Loss :  2.7808260494055492 , Time : 0.4246511199999077\n",
      "Iteration 90 : Train Accuracy : 0.8514340485143405, \tValid  Accuracy : 0.8490378234903783,\t Train Loss : 2.7360838174871236, \tValid Loss :  2.7808260494055492 , Time : 0.4216202279994832\n",
      "Iteration 91 : Train Accuracy : 0.8514340485143405, \tValid  Accuracy : 0.8490378234903783,\t Train Loss : 2.736076017410356, \tValid Loss :  2.7808260494055492 , Time : 0.4243771049996212\n",
      "Iteration 92 : Train Accuracy : 0.8514340485143405, \tValid  Accuracy : 0.8490378234903783,\t Train Loss : 2.7360687507823642, \tValid Loss :  2.7808260494055492 , Time : 0.4409352620004938\n",
      "Iteration 93 : Train Accuracy : 0.8514340485143405, \tValid  Accuracy : 0.8490378234903783,\t Train Loss : 2.7360619839628315, \tValid Loss :  2.7808260494055492 , Time : 0.436097712999981\n",
      "Iteration 94 : Train Accuracy : 0.8514340485143405, \tValid  Accuracy : 0.8490378234903783,\t Train Loss : 2.7360557048802376, \tValid Loss :  2.7808260494055492 , Time : 0.4342023330000302\n",
      "Iteration 95 : Train Accuracy : 0.8514340485143405, \tValid  Accuracy : 0.8490378234903783,\t Train Loss : 2.7360499408234604, \tValid Loss :  2.7808260494055492 , Time : 0.435829234999801\n",
      "Iteration 96 : Train Accuracy : 0.8514340485143405, \tValid  Accuracy : 0.8490378234903783,\t Train Loss : 2.736044669896718, \tValid Loss :  2.7808260494055492 , Time : 0.4397982209993643\n",
      "Iteration 97 : Train Accuracy : 0.8514340485143405, \tValid  Accuracy : 0.8490378234903783,\t Train Loss : 2.736040253723228, \tValid Loss :  2.7808260494055492 , Time : 0.4308349930006443\n",
      "Iteration 98 : Train Accuracy : 0.8514709135147092, \tValid  Accuracy : 0.8490378234903783,\t Train Loss : 2.736036247554474, \tValid Loss :  2.7808260494055492 , Time : 0.4337069209996116\n",
      "Iteration 99 : Train Accuracy : 0.8514709135147092, \tValid  Accuracy : 0.8490378234903783,\t Train Loss : 2.736032624578704, \tValid Loss :  2.7808260494055492 , Time : 0.4629502869993303\n"
     ]
    },
    {
     "data": {
      "application/vnd.plotly.v1+json": {
       "config": {
        "plotlyServerURL": "https://plot.ly"
       },
       "data": [
        {
         "name": "train_loss",
         "type": "scatter",
         "x": [
          0,
          1,
          2,
          3,
          4,
          5,
          6,
          7,
          8,
          9,
          10,
          11,
          12,
          13,
          14,
          15,
          16,
          17,
          18,
          19,
          20,
          21,
          22,
          23,
          24,
          25,
          26,
          27,
          28,
          29,
          30,
          31,
          32,
          33,
          34,
          35,
          36,
          37,
          38,
          39,
          40,
          41,
          42,
          43,
          44,
          45,
          46,
          47,
          48,
          49,
          50,
          51,
          52,
          53,
          54,
          55,
          56,
          57,
          58,
          59,
          60,
          61,
          62,
          63,
          64,
          65,
          66,
          67,
          68,
          69,
          70,
          71,
          72,
          73,
          74,
          75,
          76,
          77,
          78,
          79,
          80,
          81,
          82,
          83,
          84,
          85,
          86,
          87,
          88,
          89,
          90,
          91,
          92,
          93,
          94,
          95,
          96,
          97,
          98,
          99
         ],
         "xaxis": "x",
         "y": [
          2.7700484388015902,
          2.7605220951814444,
          2.7582965192491287,
          2.75363283603414,
          2.752094543962966,
          2.7492494830445366,
          2.748909182744167,
          2.747931141305231,
          2.7467705444591646,
          2.745976432459903,
          2.7452908665351887,
          2.7448431213407534,
          2.744157000178861,
          2.7440673479600965,
          2.743643424725098,
          2.7419821556865664,
          2.7411028938091504,
          2.740117661070927,
          2.739218714582803,
          2.7388433127559586,
          2.73921360793952,
          2.7393532660023845,
          2.7391059193015703,
          2.7388571134323216,
          2.7387244245145155,
          2.738723189806176,
          2.738723188434189,
          2.738723188432866,
          2.7387231884263166,
          2.738723187961373,
          2.738723154302128,
          2.7387206136618234,
          2.7386661329487443,
          2.7385389851430357,
          2.738406073939736,
          2.738270568349827,
          2.738140079250881,
          2.738054438619694,
          2.7380444244901696,
          2.738044118207223,
          2.738044109837437,
          2.738044104012265,
          2.7380226737325914,
          2.737715182202278,
          2.737397741293405,
          2.737361791036293,
          2.737351052561301,
          2.7373202614626764,
          2.7372636831790307,
          2.737191032016418,
          2.737112841718682,
          2.7370375191525262,
          2.7369669973484823,
          2.736901003871657,
          2.7368400061120908,
          2.7367832283754243,
          2.7367315446325344,
          2.7366833048601413,
          2.7366394297831955,
          2.7365985958349004,
          2.7365612323467428,
          2.7365264726096425,
          2.736494441035703,
          2.7364647560934143,
          2.736437417054267,
          2.736412043077872,
          2.7363889708510585,
          2.7363672929151086,
          2.7363477081731555,
          2.7363295175494944,
          2.736312860066614,
          2.736297581434564,
          2.7362836044953798,
          2.7362707966865587,
          2.7362581174315417,
          2.7362454932289433,
          2.736233017301883,
          2.7362206397257074,
          2.7362084703512712,
          2.736196449808803,
          2.736184636637947,
          2.7361730537739932,
          2.73616180076413,
          2.7361506733733063,
          2.736140011845461,
          2.736129574071145,
          2.736119620526663,
          2.7361099616498037,
          2.7361008530372746,
          2.7360920804901867,
          2.7360838174871236,
          2.736076017410356,
          2.7360687507823642,
          2.7360619839628315,
          2.7360557048802376,
          2.7360499408234604,
          2.736044669896718,
          2.736040253723228,
          2.736036247554474,
          2.736032624578704
         ],
         "yaxis": "y"
        },
        {
         "name": "train_accuracy",
         "type": "scatter",
         "x": [
          0,
          1,
          2,
          3,
          4,
          5,
          6,
          7,
          8,
          9,
          10,
          11,
          12,
          13,
          14,
          15,
          16,
          17,
          18,
          19,
          20,
          21,
          22,
          23,
          24,
          25,
          26,
          27,
          28,
          29,
          30,
          31,
          32,
          33,
          34,
          35,
          36,
          37,
          38,
          39,
          40,
          41,
          42,
          43,
          44,
          45,
          46,
          47,
          48,
          49,
          50,
          51,
          52,
          53,
          54,
          55,
          56,
          57,
          58,
          59,
          60,
          61,
          62,
          63,
          64,
          65,
          66,
          67,
          68,
          69,
          70,
          71,
          72,
          73,
          74,
          75,
          76,
          77,
          78,
          79,
          80,
          81,
          82,
          83,
          84,
          85,
          86,
          87,
          88,
          89,
          90,
          91,
          92,
          93,
          94,
          95,
          96,
          97,
          98,
          99
         ],
         "xaxis": "x2",
         "y": [
          0.8495170684951707,
          0.8500700435007005,
          0.8502175035021751,
          0.8504386935043869,
          0.8505492885054929,
          0.8507336135073361,
          0.8507704785077048,
          0.8508073435080734,
          0.8508442085084421,
          0.8508810735088107,
          0.8509179385091794,
          0.8509916685099167,
          0.8510285335102853,
          0.8510285335102853,
          0.8510285335102853,
          0.851065398510654,
          0.85117599351176,
          0.85117599351176,
          0.8512497235124973,
          0.8512865885128659,
          0.8512865885128659,
          0.8512865885128659,
          0.8512865885128659,
          0.8512865885128659,
          0.8513234535132346,
          0.8513234535132346,
          0.8513234535132346,
          0.8513234535132346,
          0.8513234535132346,
          0.8513234535132346,
          0.8513234535132346,
          0.8513234535132346,
          0.8513234535132346,
          0.8513234535132346,
          0.8513234535132346,
          0.8513234535132346,
          0.8513234535132346,
          0.8513603185136032,
          0.8513603185136032,
          0.8513603185136032,
          0.8513603185136032,
          0.8513603185136032,
          0.8513603185136032,
          0.8513603185136032,
          0.8513603185136032,
          0.8513971835139719,
          0.8513971835139719,
          0.8513971835139719,
          0.8513971835139719,
          0.8513971835139719,
          0.8513971835139719,
          0.8513971835139719,
          0.8513971835139719,
          0.8513971835139719,
          0.8513971835139719,
          0.8513971835139719,
          0.8513971835139719,
          0.8513971835139719,
          0.8513971835139719,
          0.8513971835139719,
          0.8513971835139719,
          0.8513971835139719,
          0.8513971835139719,
          0.8513971835139719,
          0.8513971835139719,
          0.8513971835139719,
          0.8513971835139719,
          0.8513971835139719,
          0.8513971835139719,
          0.8513971835139719,
          0.8513971835139719,
          0.8513971835139719,
          0.8513971835139719,
          0.8513971835139719,
          0.8513971835139719,
          0.8513971835139719,
          0.8513971835139719,
          0.8513971835139719,
          0.8513971835139719,
          0.8513971835139719,
          0.8513971835139719,
          0.8513971835139719,
          0.8513971835139719,
          0.8513971835139719,
          0.8513971835139719,
          0.8513971835139719,
          0.8513971835139719,
          0.8513971835139719,
          0.8513971835139719,
          0.8514340485143405,
          0.8514340485143405,
          0.8514340485143405,
          0.8514340485143405,
          0.8514340485143405,
          0.8514340485143405,
          0.8514340485143405,
          0.8514340485143405,
          0.8514340485143405,
          0.8514709135147092,
          0.8514709135147092
         ],
         "yaxis": "y2"
        },
        {
         "name": "validation_loss",
         "type": "scatter",
         "x": [
          0,
          1,
          2,
          3,
          4,
          5,
          6,
          7,
          8,
          9,
          10,
          11,
          12,
          13,
          14,
          15,
          16,
          17,
          18,
          19,
          20,
          21,
          22,
          23,
          24,
          25,
          26,
          27,
          28,
          29,
          30,
          31,
          32,
          33,
          34,
          35,
          36,
          37,
          38,
          39,
          40,
          41,
          42,
          43,
          44,
          45,
          46,
          47,
          48,
          49,
          50,
          51,
          52,
          53,
          54,
          55,
          56,
          57,
          58,
          59,
          60,
          61,
          62,
          63,
          64,
          65,
          66,
          67,
          68,
          69,
          70,
          71,
          72,
          73,
          74,
          75,
          76,
          77,
          78,
          79,
          80,
          81,
          82,
          83,
          84,
          85,
          86,
          87,
          88,
          89,
          90,
          91,
          92,
          93,
          94,
          95,
          96,
          97,
          98,
          99
         ],
         "xaxis": "x3",
         "y": [
          2.813418616466814,
          2.805179426044218,
          2.8012003975375235,
          2.79760645613472,
          2.7950863685314657,
          2.7941256328756414,
          2.7930501245762667,
          2.7919742334186797,
          2.7903552186027976,
          2.787228050628177,
          2.7835226664249655,
          2.7828634448197342,
          2.782863278416429,
          2.7828625839595444,
          2.7827792322683442,
          2.7823188144788973,
          2.7817409214835425,
          2.781210497742182,
          2.7806025366289426,
          2.780056433372369,
          2.779526263529789,
          2.7803251572433623,
          2.7808343734277843,
          2.7808261437431825,
          2.7808260503022177,
          2.7808260494150607,
          2.7808260494056425,
          2.78082604940555,
          2.7808260494055492,
          2.7808260494055492,
          2.7808260494055492,
          2.7808260494055492,
          2.7808260494055492,
          2.7808260494055492,
          2.7808260494055492,
          2.7808260494055492,
          2.7808260494055492,
          2.7808260494055492,
          2.7808260494055492,
          2.7808260494055492,
          2.7808260494055492,
          2.7808260494055492,
          2.7808260494055492,
          2.7808260494055492,
          2.7808260494055492,
          2.7808260494055492,
          2.7808260494055492,
          2.7808260494055492,
          2.7808260494055492,
          2.7808260494055492,
          2.7808260494055492,
          2.7808260494055492,
          2.7808260494055492,
          2.7808260494055492,
          2.7808260494055492,
          2.7808260494055492,
          2.7808260494055492,
          2.7808260494055492,
          2.7808260494055492,
          2.7808260494055492,
          2.7808260494055492,
          2.7808260494055492,
          2.7808260494055492,
          2.7808260494055492,
          2.7808260494055492,
          2.7808260494055492,
          2.7808260494055492,
          2.7808260494055492,
          2.7808260494055492,
          2.7808260494055492,
          2.7808260494055492,
          2.7808260494055492,
          2.7808260494055492,
          2.7808260494055492,
          2.7808260494055492,
          2.7808260494055492,
          2.7808260494055492,
          2.7808260494055492,
          2.7808260494055492,
          2.7808260494055492,
          2.7808260494055492,
          2.7808260494055492,
          2.7808260494055492,
          2.7808260494055492,
          2.7808260494055492,
          2.7808260494055492,
          2.7808260494055492,
          2.7808260494055492,
          2.7808260494055492,
          2.7808260494055492,
          2.7808260494055492,
          2.7808260494055492,
          2.7808260494055492,
          2.7808260494055492,
          2.7808260494055492,
          2.7808260494055492,
          2.7808260494055492,
          2.7808260494055492,
          2.7808260494055492,
          2.7808260494055492
         ],
         "yaxis": "y3"
        },
        {
         "name": "validation_accuracy",
         "type": "scatter",
         "x": [
          0,
          1,
          2,
          3,
          4,
          5,
          6,
          7,
          8,
          9,
          10,
          11,
          12,
          13,
          14,
          15,
          16,
          17,
          18,
          19,
          20,
          21,
          22,
          23,
          24,
          25,
          26,
          27,
          28,
          29,
          30,
          31,
          32,
          33,
          34,
          35,
          36,
          37,
          38,
          39,
          40,
          41,
          42,
          43,
          44,
          45,
          46,
          47,
          48,
          49,
          50,
          51,
          52,
          53,
          54,
          55,
          56,
          57,
          58,
          59,
          60,
          61,
          62,
          63,
          64,
          65,
          66,
          67,
          68,
          69,
          70,
          71,
          72,
          73,
          74,
          75,
          76,
          77,
          78,
          79,
          80,
          81,
          82,
          83,
          84,
          85,
          86,
          87,
          88,
          89,
          90,
          91,
          92,
          93,
          94,
          95,
          96,
          97,
          98,
          99
         ],
         "xaxis": "x4",
         "y": [
          0.847268303472683,
          0.8477106834771069,
          0.8479318734793188,
          0.8480424684804246,
          0.8482636584826366,
          0.8482636584826366,
          0.8483742534837425,
          0.8483742534837425,
          0.8484848484848485,
          0.8484848484848485,
          0.8488166334881664,
          0.8489272284892723,
          0.8489272284892723,
          0.8489272284892723,
          0.8489272284892723,
          0.8489272284892723,
          0.8489272284892723,
          0.8489272284892723,
          0.8490378234903783,
          0.8490378234903783,
          0.8490378234903783,
          0.8489272284892723,
          0.8490378234903783,
          0.8490378234903783,
          0.8490378234903783,
          0.8490378234903783,
          0.8490378234903783,
          0.8490378234903783,
          0.8490378234903783,
          0.8490378234903783,
          0.8490378234903783,
          0.8490378234903783,
          0.8490378234903783,
          0.8490378234903783,
          0.8490378234903783,
          0.8490378234903783,
          0.8490378234903783,
          0.8490378234903783,
          0.8490378234903783,
          0.8490378234903783,
          0.8490378234903783,
          0.8490378234903783,
          0.8490378234903783,
          0.8490378234903783,
          0.8490378234903783,
          0.8490378234903783,
          0.8490378234903783,
          0.8490378234903783,
          0.8490378234903783,
          0.8490378234903783,
          0.8490378234903783,
          0.8490378234903783,
          0.8490378234903783,
          0.8490378234903783,
          0.8490378234903783,
          0.8490378234903783,
          0.8490378234903783,
          0.8490378234903783,
          0.8490378234903783,
          0.8490378234903783,
          0.8490378234903783,
          0.8490378234903783,
          0.8490378234903783,
          0.8490378234903783,
          0.8490378234903783,
          0.8490378234903783,
          0.8490378234903783,
          0.8490378234903783,
          0.8490378234903783,
          0.8490378234903783,
          0.8490378234903783,
          0.8490378234903783,
          0.8490378234903783,
          0.8490378234903783,
          0.8490378234903783,
          0.8490378234903783,
          0.8490378234903783,
          0.8490378234903783,
          0.8490378234903783,
          0.8490378234903783,
          0.8490378234903783,
          0.8490378234903783,
          0.8490378234903783,
          0.8490378234903783,
          0.8490378234903783,
          0.8490378234903783,
          0.8490378234903783,
          0.8490378234903783,
          0.8490378234903783,
          0.8490378234903783,
          0.8490378234903783,
          0.8490378234903783,
          0.8490378234903783,
          0.8490378234903783,
          0.8490378234903783,
          0.8490378234903783,
          0.8490378234903783,
          0.8490378234903783,
          0.8490378234903783,
          0.8490378234903783
         ],
         "yaxis": "y4"
        }
       ],
       "layout": {
        "height": 600,
        "template": {
         "data": {
          "bar": [
           {
            "error_x": {
             "color": "#2a3f5f"
            },
            "error_y": {
             "color": "#2a3f5f"
            },
            "marker": {
             "line": {
              "color": "#E5ECF6",
              "width": 0.5
             },
             "pattern": {
              "fillmode": "overlay",
              "size": 10,
              "solidity": 0.2
             }
            },
            "type": "bar"
           }
          ],
          "barpolar": [
           {
            "marker": {
             "line": {
              "color": "#E5ECF6",
              "width": 0.5
             },
             "pattern": {
              "fillmode": "overlay",
              "size": 10,
              "solidity": 0.2
             }
            },
            "type": "barpolar"
           }
          ],
          "carpet": [
           {
            "aaxis": {
             "endlinecolor": "#2a3f5f",
             "gridcolor": "white",
             "linecolor": "white",
             "minorgridcolor": "white",
             "startlinecolor": "#2a3f5f"
            },
            "baxis": {
             "endlinecolor": "#2a3f5f",
             "gridcolor": "white",
             "linecolor": "white",
             "minorgridcolor": "white",
             "startlinecolor": "#2a3f5f"
            },
            "type": "carpet"
           }
          ],
          "choropleth": [
           {
            "colorbar": {
             "outlinewidth": 0,
             "ticks": ""
            },
            "type": "choropleth"
           }
          ],
          "contour": [
           {
            "colorbar": {
             "outlinewidth": 0,
             "ticks": ""
            },
            "colorscale": [
             [
              0,
              "#0d0887"
             ],
             [
              0.1111111111111111,
              "#46039f"
             ],
             [
              0.2222222222222222,
              "#7201a8"
             ],
             [
              0.3333333333333333,
              "#9c179e"
             ],
             [
              0.4444444444444444,
              "#bd3786"
             ],
             [
              0.5555555555555556,
              "#d8576b"
             ],
             [
              0.6666666666666666,
              "#ed7953"
             ],
             [
              0.7777777777777778,
              "#fb9f3a"
             ],
             [
              0.8888888888888888,
              "#fdca26"
             ],
             [
              1,
              "#f0f921"
             ]
            ],
            "type": "contour"
           }
          ],
          "contourcarpet": [
           {
            "colorbar": {
             "outlinewidth": 0,
             "ticks": ""
            },
            "type": "contourcarpet"
           }
          ],
          "heatmap": [
           {
            "colorbar": {
             "outlinewidth": 0,
             "ticks": ""
            },
            "colorscale": [
             [
              0,
              "#0d0887"
             ],
             [
              0.1111111111111111,
              "#46039f"
             ],
             [
              0.2222222222222222,
              "#7201a8"
             ],
             [
              0.3333333333333333,
              "#9c179e"
             ],
             [
              0.4444444444444444,
              "#bd3786"
             ],
             [
              0.5555555555555556,
              "#d8576b"
             ],
             [
              0.6666666666666666,
              "#ed7953"
             ],
             [
              0.7777777777777778,
              "#fb9f3a"
             ],
             [
              0.8888888888888888,
              "#fdca26"
             ],
             [
              1,
              "#f0f921"
             ]
            ],
            "type": "heatmap"
           }
          ],
          "heatmapgl": [
           {
            "colorbar": {
             "outlinewidth": 0,
             "ticks": ""
            },
            "colorscale": [
             [
              0,
              "#0d0887"
             ],
             [
              0.1111111111111111,
              "#46039f"
             ],
             [
              0.2222222222222222,
              "#7201a8"
             ],
             [
              0.3333333333333333,
              "#9c179e"
             ],
             [
              0.4444444444444444,
              "#bd3786"
             ],
             [
              0.5555555555555556,
              "#d8576b"
             ],
             [
              0.6666666666666666,
              "#ed7953"
             ],
             [
              0.7777777777777778,
              "#fb9f3a"
             ],
             [
              0.8888888888888888,
              "#fdca26"
             ],
             [
              1,
              "#f0f921"
             ]
            ],
            "type": "heatmapgl"
           }
          ],
          "histogram": [
           {
            "marker": {
             "pattern": {
              "fillmode": "overlay",
              "size": 10,
              "solidity": 0.2
             }
            },
            "type": "histogram"
           }
          ],
          "histogram2d": [
           {
            "colorbar": {
             "outlinewidth": 0,
             "ticks": ""
            },
            "colorscale": [
             [
              0,
              "#0d0887"
             ],
             [
              0.1111111111111111,
              "#46039f"
             ],
             [
              0.2222222222222222,
              "#7201a8"
             ],
             [
              0.3333333333333333,
              "#9c179e"
             ],
             [
              0.4444444444444444,
              "#bd3786"
             ],
             [
              0.5555555555555556,
              "#d8576b"
             ],
             [
              0.6666666666666666,
              "#ed7953"
             ],
             [
              0.7777777777777778,
              "#fb9f3a"
             ],
             [
              0.8888888888888888,
              "#fdca26"
             ],
             [
              1,
              "#f0f921"
             ]
            ],
            "type": "histogram2d"
           }
          ],
          "histogram2dcontour": [
           {
            "colorbar": {
             "outlinewidth": 0,
             "ticks": ""
            },
            "colorscale": [
             [
              0,
              "#0d0887"
             ],
             [
              0.1111111111111111,
              "#46039f"
             ],
             [
              0.2222222222222222,
              "#7201a8"
             ],
             [
              0.3333333333333333,
              "#9c179e"
             ],
             [
              0.4444444444444444,
              "#bd3786"
             ],
             [
              0.5555555555555556,
              "#d8576b"
             ],
             [
              0.6666666666666666,
              "#ed7953"
             ],
             [
              0.7777777777777778,
              "#fb9f3a"
             ],
             [
              0.8888888888888888,
              "#fdca26"
             ],
             [
              1,
              "#f0f921"
             ]
            ],
            "type": "histogram2dcontour"
           }
          ],
          "mesh3d": [
           {
            "colorbar": {
             "outlinewidth": 0,
             "ticks": ""
            },
            "type": "mesh3d"
           }
          ],
          "parcoords": [
           {
            "line": {
             "colorbar": {
              "outlinewidth": 0,
              "ticks": ""
             }
            },
            "type": "parcoords"
           }
          ],
          "pie": [
           {
            "automargin": true,
            "type": "pie"
           }
          ],
          "scatter": [
           {
            "marker": {
             "colorbar": {
              "outlinewidth": 0,
              "ticks": ""
             }
            },
            "type": "scatter"
           }
          ],
          "scatter3d": [
           {
            "line": {
             "colorbar": {
              "outlinewidth": 0,
              "ticks": ""
             }
            },
            "marker": {
             "colorbar": {
              "outlinewidth": 0,
              "ticks": ""
             }
            },
            "type": "scatter3d"
           }
          ],
          "scattercarpet": [
           {
            "marker": {
             "colorbar": {
              "outlinewidth": 0,
              "ticks": ""
             }
            },
            "type": "scattercarpet"
           }
          ],
          "scattergeo": [
           {
            "marker": {
             "colorbar": {
              "outlinewidth": 0,
              "ticks": ""
             }
            },
            "type": "scattergeo"
           }
          ],
          "scattergl": [
           {
            "marker": {
             "colorbar": {
              "outlinewidth": 0,
              "ticks": ""
             }
            },
            "type": "scattergl"
           }
          ],
          "scattermapbox": [
           {
            "marker": {
             "colorbar": {
              "outlinewidth": 0,
              "ticks": ""
             }
            },
            "type": "scattermapbox"
           }
          ],
          "scatterpolar": [
           {
            "marker": {
             "colorbar": {
              "outlinewidth": 0,
              "ticks": ""
             }
            },
            "type": "scatterpolar"
           }
          ],
          "scatterpolargl": [
           {
            "marker": {
             "colorbar": {
              "outlinewidth": 0,
              "ticks": ""
             }
            },
            "type": "scatterpolargl"
           }
          ],
          "scatterternary": [
           {
            "marker": {
             "colorbar": {
              "outlinewidth": 0,
              "ticks": ""
             }
            },
            "type": "scatterternary"
           }
          ],
          "surface": [
           {
            "colorbar": {
             "outlinewidth": 0,
             "ticks": ""
            },
            "colorscale": [
             [
              0,
              "#0d0887"
             ],
             [
              0.1111111111111111,
              "#46039f"
             ],
             [
              0.2222222222222222,
              "#7201a8"
             ],
             [
              0.3333333333333333,
              "#9c179e"
             ],
             [
              0.4444444444444444,
              "#bd3786"
             ],
             [
              0.5555555555555556,
              "#d8576b"
             ],
             [
              0.6666666666666666,
              "#ed7953"
             ],
             [
              0.7777777777777778,
              "#fb9f3a"
             ],
             [
              0.8888888888888888,
              "#fdca26"
             ],
             [
              1,
              "#f0f921"
             ]
            ],
            "type": "surface"
           }
          ],
          "table": [
           {
            "cells": {
             "fill": {
              "color": "#EBF0F8"
             },
             "line": {
              "color": "white"
             }
            },
            "header": {
             "fill": {
              "color": "#C8D4E3"
             },
             "line": {
              "color": "white"
             }
            },
            "type": "table"
           }
          ]
         },
         "layout": {
          "annotationdefaults": {
           "arrowcolor": "#2a3f5f",
           "arrowhead": 0,
           "arrowwidth": 1
          },
          "autotypenumbers": "strict",
          "coloraxis": {
           "colorbar": {
            "outlinewidth": 0,
            "ticks": ""
           }
          },
          "colorscale": {
           "diverging": [
            [
             0,
             "#8e0152"
            ],
            [
             0.1,
             "#c51b7d"
            ],
            [
             0.2,
             "#de77ae"
            ],
            [
             0.3,
             "#f1b6da"
            ],
            [
             0.4,
             "#fde0ef"
            ],
            [
             0.5,
             "#f7f7f7"
            ],
            [
             0.6,
             "#e6f5d0"
            ],
            [
             0.7,
             "#b8e186"
            ],
            [
             0.8,
             "#7fbc41"
            ],
            [
             0.9,
             "#4d9221"
            ],
            [
             1,
             "#276419"
            ]
           ],
           "sequential": [
            [
             0,
             "#0d0887"
            ],
            [
             0.1111111111111111,
             "#46039f"
            ],
            [
             0.2222222222222222,
             "#7201a8"
            ],
            [
             0.3333333333333333,
             "#9c179e"
            ],
            [
             0.4444444444444444,
             "#bd3786"
            ],
            [
             0.5555555555555556,
             "#d8576b"
            ],
            [
             0.6666666666666666,
             "#ed7953"
            ],
            [
             0.7777777777777778,
             "#fb9f3a"
            ],
            [
             0.8888888888888888,
             "#fdca26"
            ],
            [
             1,
             "#f0f921"
            ]
           ],
           "sequentialminus": [
            [
             0,
             "#0d0887"
            ],
            [
             0.1111111111111111,
             "#46039f"
            ],
            [
             0.2222222222222222,
             "#7201a8"
            ],
            [
             0.3333333333333333,
             "#9c179e"
            ],
            [
             0.4444444444444444,
             "#bd3786"
            ],
            [
             0.5555555555555556,
             "#d8576b"
            ],
            [
             0.6666666666666666,
             "#ed7953"
            ],
            [
             0.7777777777777778,
             "#fb9f3a"
            ],
            [
             0.8888888888888888,
             "#fdca26"
            ],
            [
             1,
             "#f0f921"
            ]
           ]
          },
          "colorway": [
           "#636efa",
           "#EF553B",
           "#00cc96",
           "#ab63fa",
           "#FFA15A",
           "#19d3f3",
           "#FF6692",
           "#B6E880",
           "#FF97FF",
           "#FECB52"
          ],
          "font": {
           "color": "#2a3f5f"
          },
          "geo": {
           "bgcolor": "white",
           "lakecolor": "white",
           "landcolor": "#E5ECF6",
           "showlakes": true,
           "showland": true,
           "subunitcolor": "white"
          },
          "hoverlabel": {
           "align": "left"
          },
          "hovermode": "closest",
          "mapbox": {
           "style": "light"
          },
          "paper_bgcolor": "white",
          "plot_bgcolor": "#E5ECF6",
          "polar": {
           "angularaxis": {
            "gridcolor": "white",
            "linecolor": "white",
            "ticks": ""
           },
           "bgcolor": "#E5ECF6",
           "radialaxis": {
            "gridcolor": "white",
            "linecolor": "white",
            "ticks": ""
           }
          },
          "scene": {
           "xaxis": {
            "backgroundcolor": "#E5ECF6",
            "gridcolor": "white",
            "gridwidth": 2,
            "linecolor": "white",
            "showbackground": true,
            "ticks": "",
            "zerolinecolor": "white"
           },
           "yaxis": {
            "backgroundcolor": "#E5ECF6",
            "gridcolor": "white",
            "gridwidth": 2,
            "linecolor": "white",
            "showbackground": true,
            "ticks": "",
            "zerolinecolor": "white"
           },
           "zaxis": {
            "backgroundcolor": "#E5ECF6",
            "gridcolor": "white",
            "gridwidth": 2,
            "linecolor": "white",
            "showbackground": true,
            "ticks": "",
            "zerolinecolor": "white"
           }
          },
          "shapedefaults": {
           "line": {
            "color": "#2a3f5f"
           }
          },
          "ternary": {
           "aaxis": {
            "gridcolor": "white",
            "linecolor": "white",
            "ticks": ""
           },
           "baxis": {
            "gridcolor": "white",
            "linecolor": "white",
            "ticks": ""
           },
           "bgcolor": "#E5ECF6",
           "caxis": {
            "gridcolor": "white",
            "linecolor": "white",
            "ticks": ""
           }
          },
          "title": {
           "x": 0.05
          },
          "xaxis": {
           "automargin": true,
           "gridcolor": "white",
           "linecolor": "white",
           "ticks": "",
           "title": {
            "standoff": 15
           },
           "zerolinecolor": "white",
           "zerolinewidth": 2
          },
          "yaxis": {
           "automargin": true,
           "gridcolor": "white",
           "linecolor": "white",
           "ticks": "",
           "title": {
            "standoff": 15
           },
           "zerolinecolor": "white",
           "zerolinewidth": 2
          }
         }
        },
        "title": {
         "text": "Convergence of the loss and accuracy"
        },
        "width": 800,
        "xaxis": {
         "anchor": "y",
         "autorange": true,
         "domain": [
          0,
          0.45
         ],
         "range": [
          0,
          99
         ],
         "type": "linear"
        },
        "xaxis2": {
         "anchor": "y2",
         "autorange": true,
         "domain": [
          0.55,
          1
         ],
         "range": [
          0,
          99
         ],
         "type": "linear"
        },
        "xaxis3": {
         "anchor": "y3",
         "autorange": true,
         "domain": [
          0,
          0.45
         ],
         "range": [
          0,
          99
         ],
         "type": "linear"
        },
        "xaxis4": {
         "anchor": "y4",
         "autorange": true,
         "domain": [
          0.55,
          1
         ],
         "range": [
          0,
          99
         ],
         "type": "linear"
        },
        "yaxis": {
         "anchor": "x",
         "autorange": true,
         "domain": [
          0.575,
          1
         ],
         "range": [
          2.734142857121877,
          2.7719382062584175
         ],
         "type": "linear"
        },
        "yaxis2": {
         "anchor": "x2",
         "autorange": true,
         "domain": [
          0.575,
          1
         ],
         "range": [
          0.8494085215496409,
          0.851579460460239
         ],
         "type": "linear"
        },
        "yaxis3": {
         "anchor": "x3",
         "autorange": true,
         "domain": [
          0,
          0.425
         ],
         "range": [
          2.7776433550332875,
          2.8153015249633153
         ],
         "type": "linear"
        },
        "yaxis4": {
         "anchor": "x4",
         "autorange": true,
         "domain": [
          0,
          0.425
         ],
         "range": [
          0.8471699968050332,
          0.849136130158028
         ],
         "type": "linear"
        }
       }
      },
      "image/png": "[encoded data removed]",
      "text/html": [
       "<div>                            <div id=\"1f03130a-615d-409a-aa97-5a9ee9ca5fc1\" class=\"plotly-graph-div\" style=\"height:600px; width:800px;\"></div>            <script type=\"text/javascript\">                require([\"plotly\"], function(Plotly) {                    window.PLOTLYENV=window.PLOTLYENV || {};                                    if (document.getElementById(\"1f03130a-615d-409a-aa97-5a9ee9ca5fc1\")) {                    Plotly.newPlot(                        \"1f03130a-615d-409a-aa97-5a9ee9ca5fc1\",                        [{\"name\":\"train_loss\",\"type\":\"scatter\",\"x\":[0,1,2,3,4,5,6,7,8,9,10,11,12,13,14,15,16,17,18,19,20,21,22,23,24,25,26,27,28,29,30,31,32,33,34,35,36,37,38,39,40,41,42,43,44,45,46,47,48,49,50,51,52,53,54,55,56,57,58,59,60,61,62,63,64,65,66,67,68,69,70,71,72,73,74,75,76,77,78,79,80,81,82,83,84,85,86,87,88,89,90,91,92,93,94,95,96,97,98,99],\"xaxis\":\"x\",\"y\":[2.7700484388015902,2.7605220951814444,2.7582965192491287,2.75363283603414,2.752094543962966,2.7492494830445366,2.748909182744167,2.747931141305231,2.7467705444591646,2.745976432459903,2.7452908665351887,2.7448431213407534,2.744157000178861,2.7440673479600965,2.743643424725098,2.7419821556865664,2.7411028938091504,2.740117661070927,2.739218714582803,2.7388433127559586,2.73921360793952,2.7393532660023845,2.7391059193015703,2.7388571134323216,2.7387244245145155,2.738723189806176,2.738723188434189,2.738723188432866,2.7387231884263166,2.738723187961373,2.738723154302128,2.7387206136618234,2.7386661329487443,2.7385389851430357,2.738406073939736,2.738270568349827,2.738140079250881,2.738054438619694,2.7380444244901696,2.738044118207223,2.738044109837437,2.738044104012265,2.7380226737325914,2.737715182202278,2.737397741293405,2.737361791036293,2.737351052561301,2.7373202614626764,2.7372636831790307,2.737191032016418,2.737112841718682,2.7370375191525262,2.7369669973484823,2.736901003871657,2.7368400061120908,2.7367832283754243,2.7367315446325344,2.7366833048601413,2.7366394297831955,2.7365985958349004,2.7365612323467428,2.7365264726096425,2.736494441035703,2.7364647560934143,2.736437417054267,2.736412043077872,2.7363889708510585,2.7363672929151086,2.7363477081731555,2.7363295175494944,2.736312860066614,2.736297581434564,2.7362836044953798,2.7362707966865587,2.7362581174315417,2.7362454932289433,2.736233017301883,2.7362206397257074,2.7362084703512712,2.736196449808803,2.736184636637947,2.7361730537739932,2.73616180076413,2.7361506733733063,2.736140011845461,2.736129574071145,2.736119620526663,2.7361099616498037,2.7361008530372746,2.7360920804901867,2.7360838174871236,2.736076017410356,2.7360687507823642,2.7360619839628315,2.7360557048802376,2.7360499408234604,2.736044669896718,2.736040253723228,2.736036247554474,2.736032624578704],\"yaxis\":\"y\"},{\"name\":\"train_accuracy\",\"type\":\"scatter\",\"x\":[0,1,2,3,4,5,6,7,8,9,10,11,12,13,14,15,16,17,18,19,20,21,22,23,24,25,26,27,28,29,30,31,32,33,34,35,36,37,38,39,40,41,42,43,44,45,46,47,48,49,50,51,52,53,54,55,56,57,58,59,60,61,62,63,64,65,66,67,68,69,70,71,72,73,74,75,76,77,78,79,80,81,82,83,84,85,86,87,88,89,90,91,92,93,94,95,96,97,98,99],\"xaxis\":\"x2\",\"y\":[0.8495170684951707,0.8500700435007005,0.8502175035021751,0.8504386935043869,0.8505492885054929,0.8507336135073361,0.8507704785077048,0.8508073435080734,0.8508442085084421,0.8508810735088107,0.8509179385091794,0.8509916685099167,0.8510285335102853,0.8510285335102853,0.8510285335102853,0.851065398510654,0.85117599351176,0.85117599351176,0.8512497235124973,0.8512865885128659,0.8512865885128659,0.8512865885128659,0.8512865885128659,0.8512865885128659,0.8513234535132346,0.8513234535132346,0.8513234535132346,0.8513234535132346,0.8513234535132346,0.8513234535132346,0.8513234535132346,0.8513234535132346,0.8513234535132346,0.8513234535132346,0.8513234535132346,0.8513234535132346,0.8513234535132346,0.8513603185136032,0.8513603185136032,0.8513603185136032,0.8513603185136032,0.8513603185136032,0.8513603185136032,0.8513603185136032,0.8513603185136032,0.8513971835139719,0.8513971835139719,0.8513971835139719,0.8513971835139719,0.8513971835139719,0.8513971835139719,0.8513971835139719,0.8513971835139719,0.8513971835139719,0.8513971835139719,0.8513971835139719,0.8513971835139719,0.8513971835139719,0.8513971835139719,0.8513971835139719,0.8513971835139719,0.8513971835139719,0.8513971835139719,0.8513971835139719,0.8513971835139719,0.8513971835139719,0.8513971835139719,0.8513971835139719,0.8513971835139719,0.8513971835139719,0.8513971835139719,0.8513971835139719,0.8513971835139719,0.8513971835139719,0.8513971835139719,0.8513971835139719,0.8513971835139719,0.8513971835139719,0.8513971835139719,0.8513971835139719,0.8513971835139719,0.8513971835139719,0.8513971835139719,0.8513971835139719,0.8513971835139719,0.8513971835139719,0.8513971835139719,0.8513971835139719,0.8513971835139719,0.8514340485143405,0.8514340485143405,0.8514340485143405,0.8514340485143405,0.8514340485143405,0.8514340485143405,0.8514340485143405,0.8514340485143405,0.8514340485143405,0.8514709135147092,0.8514709135147092],\"yaxis\":\"y2\"},{\"name\":\"validation_loss\",\"type\":\"scatter\",\"x\":[0,1,2,3,4,5,6,7,8,9,10,11,12,13,14,15,16,17,18,19,20,21,22,23,24,25,26,27,28,29,30,31,32,33,34,35,36,37,38,39,40,41,42,43,44,45,46,47,48,49,50,51,52,53,54,55,56,57,58,59,60,61,62,63,64,65,66,67,68,69,70,71,72,73,74,75,76,77,78,79,80,81,82,83,84,85,86,87,88,89,90,91,92,93,94,95,96,97,98,99],\"xaxis\":\"x3\",\"y\":[2.813418616466814,2.805179426044218,2.8012003975375235,2.79760645613472,2.7950863685314657,2.7941256328756414,2.7930501245762667,2.7919742334186797,2.7903552186027976,2.787228050628177,2.7835226664249655,2.7828634448197342,2.782863278416429,2.7828625839595444,2.7827792322683442,2.7823188144788973,2.7817409214835425,2.781210497742182,2.7806025366289426,2.780056433372369,2.779526263529789,2.7803251572433623,2.7808343734277843,2.7808261437431825,2.7808260503022177,2.7808260494150607,2.7808260494056425,2.78082604940555,2.7808260494055492,2.7808260494055492,2.7808260494055492,2.7808260494055492,2.7808260494055492,2.7808260494055492,2.7808260494055492,2.7808260494055492,2.7808260494055492,2.7808260494055492,2.7808260494055492,2.7808260494055492,2.7808260494055492,2.7808260494055492,2.7808260494055492,2.7808260494055492,2.7808260494055492,2.7808260494055492,2.7808260494055492,2.7808260494055492,2.7808260494055492,2.7808260494055492,2.7808260494055492,2.7808260494055492,2.7808260494055492,2.7808260494055492,2.7808260494055492,2.7808260494055492,2.7808260494055492,2.7808260494055492,2.7808260494055492,2.7808260494055492,2.7808260494055492,2.7808260494055492,2.7808260494055492,2.7808260494055492,2.7808260494055492,2.7808260494055492,2.7808260494055492,2.7808260494055492,2.7808260494055492,2.7808260494055492,2.7808260494055492,2.7808260494055492,2.7808260494055492,2.7808260494055492,2.7808260494055492,2.7808260494055492,2.7808260494055492,2.7808260494055492,2.7808260494055492,2.7808260494055492,2.7808260494055492,2.7808260494055492,2.7808260494055492,2.7808260494055492,2.7808260494055492,2.7808260494055492,2.7808260494055492,2.7808260494055492,2.7808260494055492,2.7808260494055492,2.7808260494055492,2.7808260494055492,2.7808260494055492,2.7808260494055492,2.7808260494055492,2.7808260494055492,2.7808260494055492,2.7808260494055492,2.7808260494055492,2.7808260494055492],\"yaxis\":\"y3\"},{\"name\":\"validation_accuracy\",\"type\":\"scatter\",\"x\":[0,1,2,3,4,5,6,7,8,9,10,11,12,13,14,15,16,17,18,19,20,21,22,23,24,25,26,27,28,29,30,31,32,33,34,35,36,37,38,39,40,41,42,43,44,45,46,47,48,49,50,51,52,53,54,55,56,57,58,59,60,61,62,63,64,65,66,67,68,69,70,71,72,73,74,75,76,77,78,79,80,81,82,83,84,85,86,87,88,89,90,91,92,93,94,95,96,97,98,99],\"xaxis\":\"x4\",\"y\":[0.847268303472683,0.8477106834771069,0.8479318734793188,0.8480424684804246,0.8482636584826366,0.8482636584826366,0.8483742534837425,0.8483742534837425,0.8484848484848485,0.8484848484848485,0.8488166334881664,0.8489272284892723,0.8489272284892723,0.8489272284892723,0.8489272284892723,0.8489272284892723,0.8489272284892723,0.8489272284892723,0.8490378234903783,0.8490378234903783,0.8490378234903783,0.8489272284892723,0.8490378234903783,0.8490378234903783,0.8490378234903783,0.8490378234903783,0.8490378234903783,0.8490378234903783,0.8490378234903783,0.8490378234903783,0.8490378234903783,0.8490378234903783,0.8490378234903783,0.8490378234903783,0.8490378234903783,0.8490378234903783,0.8490378234903783,0.8490378234903783,0.8490378234903783,0.8490378234903783,0.8490378234903783,0.8490378234903783,0.8490378234903783,0.8490378234903783,0.8490378234903783,0.8490378234903783,0.8490378234903783,0.8490378234903783,0.8490378234903783,0.8490378234903783,0.8490378234903783,0.8490378234903783,0.8490378234903783,0.8490378234903783,0.8490378234903783,0.8490378234903783,0.8490378234903783,0.8490378234903783,0.8490378234903783,0.8490378234903783,0.8490378234903783,0.8490378234903783,0.8490378234903783,0.8490378234903783,0.8490378234903783,0.8490378234903783,0.8490378234903783,0.8490378234903783,0.8490378234903783,0.8490378234903783,0.8490378234903783,0.8490378234903783,0.8490378234903783,0.8490378234903783,0.8490378234903783,0.8490378234903783,0.8490378234903783,0.8490378234903783,0.8490378234903783,0.8490378234903783,0.8490378234903783,0.8490378234903783,0.8490378234903783,0.8490378234903783,0.8490378234903783,0.8490378234903783,0.8490378234903783,0.8490378234903783,0.8490378234903783,0.8490378234903783,0.8490378234903783,0.8490378234903783,0.8490378234903783,0.8490378234903783,0.8490378234903783,0.8490378234903783,0.8490378234903783,0.8490378234903783,0.8490378234903783,0.8490378234903783],\"yaxis\":\"y4\"}],                        {\"height\":600,\"template\":{\"data\":{\"bar\":[{\"error_x\":{\"color\":\"#2a3f5f\"},\"error_y\":{\"color\":\"#2a3f5f\"},\"marker\":{\"line\":{\"color\":\"#E5ECF6\",\"width\":0.5},\"pattern\":{\"fillmode\":\"overlay\",\"size\":10,\"solidity\":0.2}},\"type\":\"bar\"}],\"barpolar\":[{\"marker\":{\"line\":{\"color\":\"#E5ECF6\",\"width\":0.5},\"pattern\":{\"fillmode\":\"overlay\",\"size\":10,\"solidity\":0.2}},\"type\":\"barpolar\"}],\"carpet\":[{\"aaxis\":{\"endlinecolor\":\"#2a3f5f\",\"gridcolor\":\"white\",\"linecolor\":\"white\",\"minorgridcolor\":\"white\",\"startlinecolor\":\"#2a3f5f\"},\"baxis\":{\"endlinecolor\":\"#2a3f5f\",\"gridcolor\":\"white\",\"linecolor\":\"white\",\"minorgridcolor\":\"white\",\"startlinecolor\":\"#2a3f5f\"},\"type\":\"carpet\"}],\"choropleth\":[{\"colorbar\":{\"outlinewidth\":0,\"ticks\":\"\"},\"type\":\"choropleth\"}],\"contour\":[{\"colorbar\":{\"outlinewidth\":0,\"ticks\":\"\"},\"colorscale\":[[0.0,\"#0d0887\"],[0.1111111111111111,\"#46039f\"],[0.2222222222222222,\"#7201a8\"],[0.3333333333333333,\"#9c179e\"],[0.4444444444444444,\"#bd3786\"],[0.5555555555555556,\"#d8576b\"],[0.6666666666666666,\"#ed7953\"],[0.7777777777777778,\"#fb9f3a\"],[0.8888888888888888,\"#fdca26\"],[1.0,\"#f0f921\"]],\"type\":\"contour\"}],\"contourcarpet\":[{\"colorbar\":{\"outlinewidth\":0,\"ticks\":\"\"},\"type\":\"contourcarpet\"}],\"heatmap\":[{\"colorbar\":{\"outlinewidth\":0,\"ticks\":\"\"},\"colorscale\":[[0.0,\"#0d0887\"],[0.1111111111111111,\"#46039f\"],[0.2222222222222222,\"#7201a8\"],[0.3333333333333333,\"#9c179e\"],[0.4444444444444444,\"#bd3786\"],[0.5555555555555556,\"#d8576b\"],[0.6666666666666666,\"#ed7953\"],[0.7777777777777778,\"#fb9f3a\"],[0.8888888888888888,\"#fdca26\"],[1.0,\"#f0f921\"]],\"type\":\"heatmap\"}],\"heatmapgl\":[{\"colorbar\":{\"outlinewidth\":0,\"ticks\":\"\"},\"colorscale\":[[0.0,\"#0d0887\"],[0.1111111111111111,\"#46039f\"],[0.2222222222222222,\"#7201a8\"],[0.3333333333333333,\"#9c179e\"],[0.4444444444444444,\"#bd3786\"],[0.5555555555555556,\"#d8576b\"],[0.6666666666666666,\"#ed7953\"],[0.7777777777777778,\"#fb9f3a\"],[0.8888888888888888,\"#fdca26\"],[1.0,\"#f0f921\"]],\"type\":\"heatmapgl\"}],\"histogram\":[{\"marker\":{\"pattern\":{\"fillmode\":\"overlay\",\"size\":10,\"solidity\":0.2}},\"type\":\"histogram\"}],\"histogram2d\":[{\"colorbar\":{\"outlinewidth\":0,\"ticks\":\"\"},\"colorscale\":[[0.0,\"#0d0887\"],[0.1111111111111111,\"#46039f\"],[0.2222222222222222,\"#7201a8\"],[0.3333333333333333,\"#9c179e\"],[0.4444444444444444,\"#bd3786\"],[0.5555555555555556,\"#d8576b\"],[0.6666666666666666,\"#ed7953\"],[0.7777777777777778,\"#fb9f3a\"],[0.8888888888888888,\"#fdca26\"],[1.0,\"#f0f921\"]],\"type\":\"histogram2d\"}],\"histogram2dcontour\":[{\"colorbar\":{\"outlinewidth\":0,\"ticks\":\"\"},\"colorscale\":[[0.0,\"#0d0887\"],[0.1111111111111111,\"#46039f\"],[0.2222222222222222,\"#7201a8\"],[0.3333333333333333,\"#9c179e\"],[0.4444444444444444,\"#bd3786\"],[0.5555555555555556,\"#d8576b\"],[0.6666666666666666,\"#ed7953\"],[0.7777777777777778,\"#fb9f3a\"],[0.8888888888888888,\"#fdca26\"],[1.0,\"#f0f921\"]],\"type\":\"histogram2dcontour\"}],\"mesh3d\":[{\"colorbar\":{\"outlinewidth\":0,\"ticks\":\"\"},\"type\":\"mesh3d\"}],\"parcoords\":[{\"line\":{\"colorbar\":{\"outlinewidth\":0,\"ticks\":\"\"}},\"type\":\"parcoords\"}],\"pie\":[{\"automargin\":true,\"type\":\"pie\"}],\"scatter\":[{\"marker\":{\"colorbar\":{\"outlinewidth\":0,\"ticks\":\"\"}},\"type\":\"scatter\"}],\"scatter3d\":[{\"line\":{\"colorbar\":{\"outlinewidth\":0,\"ticks\":\"\"}},\"marker\":{\"colorbar\":{\"outlinewidth\":0,\"ticks\":\"\"}},\"type\":\"scatter3d\"}],\"scattercarpet\":[{\"marker\":{\"colorbar\":{\"outlinewidth\":0,\"ticks\":\"\"}},\"type\":\"scattercarpet\"}],\"scattergeo\":[{\"marker\":{\"colorbar\":{\"outlinewidth\":0,\"ticks\":\"\"}},\"type\":\"scattergeo\"}],\"scattergl\":[{\"marker\":{\"colorbar\":{\"outlinewidth\":0,\"ticks\":\"\"}},\"type\":\"scattergl\"}],\"scattermapbox\":[{\"marker\":{\"colorbar\":{\"outlinewidth\":0,\"ticks\":\"\"}},\"type\":\"scattermapbox\"}],\"scatterpolar\":[{\"marker\":{\"colorbar\":{\"outlinewidth\":0,\"ticks\":\"\"}},\"type\":\"scatterpolar\"}],\"scatterpolargl\":[{\"marker\":{\"colorbar\":{\"outlinewidth\":0,\"ticks\":\"\"}},\"type\":\"scatterpolargl\"}],\"scatterternary\":[{\"marker\":{\"colorbar\":{\"outlinewidth\":0,\"ticks\":\"\"}},\"type\":\"scatterternary\"}],\"surface\":[{\"colorbar\":{\"outlinewidth\":0,\"ticks\":\"\"},\"colorscale\":[[0.0,\"#0d0887\"],[0.1111111111111111,\"#46039f\"],[0.2222222222222222,\"#7201a8\"],[0.3333333333333333,\"#9c179e\"],[0.4444444444444444,\"#bd3786\"],[0.5555555555555556,\"#d8576b\"],[0.6666666666666666,\"#ed7953\"],[0.7777777777777778,\"#fb9f3a\"],[0.8888888888888888,\"#fdca26\"],[1.0,\"#f0f921\"]],\"type\":\"surface\"}],\"table\":[{\"cells\":{\"fill\":{\"color\":\"#EBF0F8\"},\"line\":{\"color\":\"white\"}},\"header\":{\"fill\":{\"color\":\"#C8D4E3\"},\"line\":{\"color\":\"white\"}},\"type\":\"table\"}]},\"layout\":{\"annotationdefaults\":{\"arrowcolor\":\"#2a3f5f\",\"arrowhead\":0,\"arrowwidth\":1},\"autotypenumbers\":\"strict\",\"coloraxis\":{\"colorbar\":{\"outlinewidth\":0,\"ticks\":\"\"}},\"colorscale\":{\"diverging\":[[0,\"#8e0152\"],[0.1,\"#c51b7d\"],[0.2,\"#de77ae\"],[0.3,\"#f1b6da\"],[0.4,\"#fde0ef\"],[0.5,\"#f7f7f7\"],[0.6,\"#e6f5d0\"],[0.7,\"#b8e186\"],[0.8,\"#7fbc41\"],[0.9,\"#4d9221\"],[1,\"#276419\"]],\"sequential\":[[0.0,\"#0d0887\"],[0.1111111111111111,\"#46039f\"],[0.2222222222222222,\"#7201a8\"],[0.3333333333333333,\"#9c179e\"],[0.4444444444444444,\"#bd3786\"],[0.5555555555555556,\"#d8576b\"],[0.6666666666666666,\"#ed7953\"],[0.7777777777777778,\"#fb9f3a\"],[0.8888888888888888,\"#fdca26\"],[1.0,\"#f0f921\"]],\"sequentialminus\":[[0.0,\"#0d0887\"],[0.1111111111111111,\"#46039f\"],[0.2222222222222222,\"#7201a8\"],[0.3333333333333333,\"#9c179e\"],[0.4444444444444444,\"#bd3786\"],[0.5555555555555556,\"#d8576b\"],[0.6666666666666666,\"#ed7953\"],[0.7777777777777778,\"#fb9f3a\"],[0.8888888888888888,\"#fdca26\"],[1.0,\"#f0f921\"]]},\"colorway\":[\"#636efa\",\"#EF553B\",\"#00cc96\",\"#ab63fa\",\"#FFA15A\",\"#19d3f3\",\"#FF6692\",\"#B6E880\",\"#FF97FF\",\"#FECB52\"],\"font\":{\"color\":\"#2a3f5f\"},\"geo\":{\"bgcolor\":\"white\",\"lakecolor\":\"white\",\"landcolor\":\"#E5ECF6\",\"showlakes\":true,\"showland\":true,\"subunitcolor\":\"white\"},\"hoverlabel\":{\"align\":\"left\"},\"hovermode\":\"closest\",\"mapbox\":{\"style\":\"light\"},\"paper_bgcolor\":\"white\",\"plot_bgcolor\":\"#E5ECF6\",\"polar\":{\"angularaxis\":{\"gridcolor\":\"white\",\"linecolor\":\"white\",\"ticks\":\"\"},\"bgcolor\":\"#E5ECF6\",\"radialaxis\":{\"gridcolor\":\"white\",\"linecolor\":\"white\",\"ticks\":\"\"}},\"scene\":{\"xaxis\":{\"backgroundcolor\":\"#E5ECF6\",\"gridcolor\":\"white\",\"gridwidth\":2,\"linecolor\":\"white\",\"showbackground\":true,\"ticks\":\"\",\"zerolinecolor\":\"white\"},\"yaxis\":{\"backgroundcolor\":\"#E5ECF6\",\"gridcolor\":\"white\",\"gridwidth\":2,\"linecolor\":\"white\",\"showbackground\":true,\"ticks\":\"\",\"zerolinecolor\":\"white\"},\"zaxis\":{\"backgroundcolor\":\"#E5ECF6\",\"gridcolor\":\"white\",\"gridwidth\":2,\"linecolor\":\"white\",\"showbackground\":true,\"ticks\":\"\",\"zerolinecolor\":\"white\"}},\"shapedefaults\":{\"line\":{\"color\":\"#2a3f5f\"}},\"ternary\":{\"aaxis\":{\"gridcolor\":\"white\",\"linecolor\":\"white\",\"ticks\":\"\"},\"baxis\":{\"gridcolor\":\"white\",\"linecolor\":\"white\",\"ticks\":\"\"},\"bgcolor\":\"#E5ECF6\",\"caxis\":{\"gridcolor\":\"white\",\"linecolor\":\"white\",\"ticks\":\"\"}},\"title\":{\"x\":0.05},\"xaxis\":{\"automargin\":true,\"gridcolor\":\"white\",\"linecolor\":\"white\",\"ticks\":\"\",\"title\":{\"standoff\":15},\"zerolinecolor\":\"white\",\"zerolinewidth\":2},\"yaxis\":{\"automargin\":true,\"gridcolor\":\"white\",\"linecolor\":\"white\",\"ticks\":\"\",\"title\":{\"standoff\":15},\"zerolinecolor\":\"white\",\"zerolinewidth\":2}}},\"title\":{\"text\":\"Convergence of the loss and accuracy\"},\"width\":800,\"xaxis\":{\"anchor\":\"y\",\"domain\":[0.0,0.45]},\"xaxis2\":{\"anchor\":\"y2\",\"domain\":[0.55,1.0]},\"xaxis3\":{\"anchor\":\"y3\",\"domain\":[0.0,0.45]},\"xaxis4\":{\"anchor\":\"y4\",\"domain\":[0.55,1.0]},\"yaxis\":{\"anchor\":\"x\",\"domain\":[0.575,1.0]},\"yaxis2\":{\"anchor\":\"x2\",\"domain\":[0.575,1.0]},\"yaxis3\":{\"anchor\":\"x3\",\"domain\":[0.0,0.425]},\"yaxis4\":{\"anchor\":\"x4\",\"domain\":[0.0,0.425]}},                        {\"responsive\": true}                    ).then(function(){\n",
       "                            \n",
       "var gd = document.getElementById('1f03130a-615d-409a-aa97-5a9ee9ca5fc1');\n",
       "var x = new MutationObserver(function (mutations, observer) {{\n",
       "        var display = window.getComputedStyle(gd).display;\n",
       "        if (!display || display === 'none') {{\n",
       "            console.log([gd, 'removed!']);\n",
       "            Plotly.purge(gd);\n",
       "            observer.disconnect();\n",
       "        }}\n",
       "}});\n",
       "\n",
       "// Listen for the removal of the full notebook cells\n",
       "var notebookContainer = gd.closest('#notebook-container');\n",
       "if (notebookContainer) {{\n",
       "    x.observe(notebookContainer, {childList: true});\n",
       "}}\n",
       "\n",
       "// Listen for the clearing of the current output cell\n",
       "var outputEl = gd.closest('.output');\n",
       "if (outputEl) {{\n",
       "    x.observe(outputEl, {childList: true});\n",
       "}}\n",
       "\n",
       "                        })                };                });            </script>        </div>"
      ]
     },
     "metadata": {},
     "output_type": "display_data"
    },
    {
     "name": "stdout",
     "output_type": "stream",
     "text": [
      "Execution Time:  23.999775886535645\n"
     ]
    }
   ],
   "source": [
    "if __name__ == \"__main__\":\n",
    "    LR = LogisticRegression()\n",
    "    start = time.time()\n",
    "    LR.train_loopRetroApprox(100)\n",
    "    end = time.time()\n",
    "    print('Execution Time: ', end - start)"
   ]
  },
  {
   "cell_type": "markdown",
   "id": "543020e2-f27d-42ba-9d67-12d839a68e2b",
   "metadata": {},
   "source": [
    "We can see that, at the start, this adapted \"Logistic Regression\" with the \"Retrospective Approximation\" quickly converges towards the optimum before moving rather constantly. However, the Retrospective Approximation algorithm has a larger error than the SAG on the whole graph. \n",
    "\n",
    "On a few occasions, as the sample size increases, the algorithm takes a considerable amount of time to arrive at a solution (which satisfies the desired error threshold) depending on the new data in the sample with each iteration. Of course, the larger the sample, the more time it takes for an iteration to increase to achieve a desired level of performance. The iteration cost is therefore dependent on the new data in the sample to analyze. Because new samples less representative of the dataset have sometimes increased the optimal function that we wish to minimize, for which an \"Early-Stopping\" technique would be adequate if it is not possible to perform the function. 'algorithm for a long period of time in order to achieve the optimum."
   ]
  },
  {
   "cell_type": "code",
   "execution_count": null,
   "id": "f86094a2-aa61-4b89-8b52-3454c825475a",
   "metadata": {},
   "outputs": [],
   "source": []
  }
 ],
 "metadata": {
  "kernelspec": {
   "display_name": "Python 3",
   "language": "python",
   "name": "python3"
  },
  "language_info": {
   "codemirror_mode": {
    "name": "ipython",
    "version": 3
   },
   "file_extension": ".py",
   "mimetype": "text/x-python",
   "name": "python",
   "nbconvert_exporter": "python",
   "pygments_lexer": "ipython3",
   "version": "3.8.8"
  }
 },
 "nbformat": 4,
 "nbformat_minor": 5
}
