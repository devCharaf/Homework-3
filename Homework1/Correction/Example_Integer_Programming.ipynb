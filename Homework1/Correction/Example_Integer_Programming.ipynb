{
 "cells": [
  {
   "cell_type": "code",
   "execution_count": 1,
   "id": "south-breast",
   "metadata": {},
   "outputs": [],
   "source": [
    "using Distributions, Random\n",
    "using LinearAlgebra \n",
    "\n",
    "using JuMP, Gurobi, GLPK \n",
    "\n",
    "using  Plots"
   ]
  },
  {
   "cell_type": "markdown",
   "id": "metallic-palestinian",
   "metadata": {},
   "source": [
    "# Optimizing with integer relaxation\n",
    "\n",
    "Meaning we solve the problem considering x and y can be real numbers."
   ]
  },
  {
   "cell_type": "code",
   "execution_count": 2,
   "id": "contrary-psychology",
   "metadata": {},
   "outputs": [
    {
     "data": {
      "text/latex": [
       "$$ \\begin{aligned}\n",
       "\\min\\quad & x - 4 y\\\\\n",
       "\\text{Subject to} \\quad & -x + 2 y \\leq 6.0\\\\\n",
       " & x + 2 y \\leq 8.0\\\\\n",
       " & x \\leq 3.0\\\\\n",
       " & x \\geq 0.0\\\\\n",
       " & y \\geq 0.0\\\\\n",
       "\\end{aligned} $$"
      ],
      "text/plain": [
       "$$ \\begin{aligned}\n",
       "\\min\\quad & x - 4 y\\\\\n",
       "\\text{Subject to} \\quad & -x + 2 y \\leq 6.0\\\\\n",
       " & x + 2 y \\leq 8.0\\\\\n",
       " & x \\leq 3.0\\\\\n",
       " & x \\geq 0.0\\\\\n",
       " & y \\geq 0.0\\\\\n",
       "\\end{aligned} $$"
      ]
     },
     "execution_count": 2,
     "metadata": {},
     "output_type": "execute_result"
    }
   ],
   "source": [
    "exemple = Model(with_optimizer(GLPK.Optimizer))\n",
    "\n",
    "# first stage variables\n",
    "@variable(exemple,x >= 0)\n",
    "@variable(exemple,y >= 0)\n",
    "\n",
    "# constraints\n",
    "@constraint(exemple , -x +2y - 6 <= 0 )\n",
    "@constraint(exemple , x +2y - 8 <= 0 )\n",
    "@constraint(exemple , x <= 3 )\n",
    "\n",
    "\n",
    "@objective(exemple, Min, x - 4y)\n",
    "\n",
    "latex_formulation(exemple)"
   ]
  },
  {
   "cell_type": "code",
   "execution_count": 7,
   "id": "skilled-consequence",
   "metadata": {},
   "outputs": [
    {
     "name": "stdout",
     "output_type": "stream",
     "text": [
      "x = 1.0\n",
      "y = 3.5\n"
     ]
    }
   ],
   "source": [
    "optimize!(exemple)\n",
    "\n",
    "println(\"x = \", value(x))\n",
    "println(\"y = \", value(y))"
   ]
  },
  {
   "cell_type": "markdown",
   "id": "anonymous-sleep",
   "metadata": {},
   "source": [
    "The solution when optimizing without integer constraint is $(x, y) = (1, 3.5)$. \n",
    "\n",
    "So by rouding the solutions, we would obtain $(x, y) = (1, 3)$. \n",
    "\n",
    "BUT !!! This is false !!!"
   ]
  },
  {
   "cell_type": "markdown",
   "id": "korean-bones",
   "metadata": {},
   "source": [
    "# Optimizing with integer constraint"
   ]
  },
  {
   "cell_type": "code",
   "execution_count": 8,
   "id": "enhanced-glucose",
   "metadata": {},
   "outputs": [
    {
     "data": {
      "text/latex": [
       "$$ \\begin{aligned}\n",
       "\\min\\quad & x - 4 y\\\\\n",
       "\\text{Subject to} \\quad & -x + 2 y \\leq 6.0\\\\\n",
       " & x + 2 y \\leq 8.0\\\\\n",
       " & x \\leq 3.0\\\\\n",
       " & x \\geq 0.0\\\\\n",
       " & y \\geq 0.0\\\\\n",
       "\\end{aligned} $$"
      ],
      "text/plain": [
       "$$ \\begin{aligned}\n",
       "\\min\\quad & x - 4 y\\\\\n",
       "\\text{Subject to} \\quad & -x + 2 y \\leq 6.0\\\\\n",
       " & x + 2 y \\leq 8.0\\\\\n",
       " & x \\leq 3.0\\\\\n",
       " & x \\geq 0.0\\\\\n",
       " & y \\geq 0.0\\\\\n",
       "\\end{aligned} $$"
      ]
     },
     "execution_count": 8,
     "metadata": {},
     "output_type": "execute_result"
    }
   ],
   "source": [
    "exemple_int = Model(with_optimizer(GLPK.Optimizer))\n",
    "\n",
    "# first stage variables\n",
    "@variable(exemple_int,x >= 0, Int)\n",
    "@variable(exemple_int,y >= 0, Int)\n",
    "\n",
    "# constraints\n",
    "@constraint(exemple_int , -x +2y - 6 <= 0 )\n",
    "@constraint(exemple_int , x +2y - 8 <= 0 )\n",
    "@constraint(exemple_int , x <= 3 )\n",
    "\n",
    "\n",
    "@objective(exemple_int, Min, x - 4y)\n",
    "\n",
    "latex_formulation(exemple)"
   ]
  },
  {
   "cell_type": "code",
   "execution_count": 10,
   "id": "faced-magazine",
   "metadata": {},
   "outputs": [
    {
     "name": "stdout",
     "output_type": "stream",
     "text": [
      "x = 0.0\n",
      "y = 3.0\n"
     ]
    }
   ],
   "source": [
    "optimize!(exemple_int)\n",
    "\n",
    "println(\"x = \", value(x))\n",
    "println(\"y = \", value(y))"
   ]
  },
  {
   "cell_type": "markdown",
   "id": "continuous-shell",
   "metadata": {},
   "source": [
    "# Conclusion: Be careful !!!!!"
   ]
  },
  {
   "cell_type": "markdown",
   "id": "selective-policy",
   "metadata": {},
   "source": [
    "There CAN be a difference between:\n",
    "- rounding solution from relaxed problem \n",
    "- solution by keeping integer solution"
   ]
  }
 ],
 "metadata": {
  "kernelspec": {
   "display_name": "Julia 1.5.3",
   "language": "julia",
   "name": "julia-1.5"
  },
  "language_info": {
   "file_extension": ".jl",
   "mimetype": "application/julia",
   "name": "julia",
   "version": "1.5.3"
  }
 },
 "nbformat": 4,
 "nbformat_minor": 5
}
